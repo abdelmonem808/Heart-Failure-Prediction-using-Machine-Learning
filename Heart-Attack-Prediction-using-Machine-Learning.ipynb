{
  "nbformat": 4,
  "nbformat_minor": 0,
  "metadata": {
    "colab": {
      "provenance": [],
      "authorship_tag": "ABX9TyMiUG9FQB4ukl/jZ+YdgZA6",
      "include_colab_link": true
    },
    "kernelspec": {
      "name": "python3",
      "display_name": "Python 3"
    },
    "language_info": {
      "name": "python"
    }
  },
  "cells": [
    {
      "cell_type": "markdown",
      "metadata": {
        "id": "view-in-github",
        "colab_type": "text"
      },
      "source": [
        "<a href=\"https://colab.research.google.com/github/abdelmonem808/Heart-Attack-Prediction-with-Machine-Learning/blob/main/Heart-Attack-Prediction-using-Machine-Learning.ipynb\" target=\"_parent\"><img src=\"https://colab.research.google.com/assets/colab-badge.svg\" alt=\"Open In Colab\"/></a>"
      ]
    },
    {
      "cell_type": "code",
      "execution_count": 1,
      "metadata": {
        "colab": {
          "base_uri": "https://localhost:8080/"
        },
        "id": "BGc0G41AgK-e",
        "outputId": "ca93150f-42a3-4ad9-b1d4-9da12fcc4f97"
      },
      "outputs": [
        {
          "output_type": "stream",
          "name": "stdout",
          "text": [
            "Looking in indexes: https://pypi.org/simple, https://us-python.pkg.dev/colab-wheels/public/simple/\n",
            "Requirement already satisfied: kaggle in /usr/local/lib/python3.8/dist-packages (1.5.12)\n",
            "Requirement already satisfied: python-slugify in /usr/local/lib/python3.8/dist-packages (from kaggle) (7.0.0)\n",
            "Requirement already satisfied: six>=1.10 in /usr/local/lib/python3.8/dist-packages (from kaggle) (1.15.0)\n",
            "Requirement already satisfied: certifi in /usr/local/lib/python3.8/dist-packages (from kaggle) (2022.12.7)\n",
            "Requirement already satisfied: urllib3 in /usr/local/lib/python3.8/dist-packages (from kaggle) (1.24.3)\n",
            "Requirement already satisfied: requests in /usr/local/lib/python3.8/dist-packages (from kaggle) (2.23.0)\n",
            "Requirement already satisfied: tqdm in /usr/local/lib/python3.8/dist-packages (from kaggle) (4.64.1)\n",
            "Requirement already satisfied: python-dateutil in /usr/local/lib/python3.8/dist-packages (from kaggle) (2.8.2)\n",
            "Requirement already satisfied: text-unidecode>=1.3 in /usr/local/lib/python3.8/dist-packages (from python-slugify->kaggle) (1.3)\n",
            "Requirement already satisfied: idna<3,>=2.5 in /usr/local/lib/python3.8/dist-packages (from requests->kaggle) (2.10)\n",
            "Requirement already satisfied: chardet<4,>=3.0.2 in /usr/local/lib/python3.8/dist-packages (from requests->kaggle) (3.0.4)\n"
          ]
        }
      ],
      "source": [
        "! pip install kaggle"
      ]
    },
    {
      "cell_type": "code",
      "source": [
        "! mkdir ~/.kaggle"
      ],
      "metadata": {
        "id": "PgA8_EBogbii"
      },
      "execution_count": 2,
      "outputs": []
    },
    {
      "cell_type": "code",
      "source": [
        "! cp kaggle.json ~/.kaggle/"
      ],
      "metadata": {
        "id": "xM5KMaaJgckc"
      },
      "execution_count": 3,
      "outputs": []
    },
    {
      "cell_type": "code",
      "source": [
        "! chmod 600 ~/.kaggle/kaggle.json\n"
      ],
      "metadata": {
        "id": "rOIz3uqJgkgb"
      },
      "execution_count": 4,
      "outputs": []
    },
    {
      "cell_type": "code",
      "source": [
        "import numpy as np # linear algebra\n",
        "import pandas as pd # data processing, CSV file I/O (e.g. pd.read_csv)\n",
        "\n",
        "import os\n",
        "for dirname, _, filenames in os.walk('/kaggle/input'):\n",
        "    for filename in filenames:\n",
        "        print(os.path.join(dirname, filename))"
      ],
      "metadata": {
        "id": "YTLX5e1Zg36j"
      },
      "execution_count": 7,
      "outputs": []
    },
    {
      "cell_type": "code",
      "source": [
        "! pip install colorama"
      ],
      "metadata": {
        "colab": {
          "base_uri": "https://localhost:8080/"
        },
        "id": "ow3MKe3uhjI-",
        "outputId": "d22a8cf7-3fc6-4a15-e2d8-19975ea3784d"
      },
      "execution_count": 9,
      "outputs": [
        {
          "output_type": "stream",
          "name": "stdout",
          "text": [
            "Looking in indexes: https://pypi.org/simple, https://us-python.pkg.dev/colab-wheels/public/simple/\n",
            "Collecting colorama\n",
            "  Downloading colorama-0.4.6-py2.py3-none-any.whl (25 kB)\n",
            "Installing collected packages: colorama\n",
            "Successfully installed colorama-0.4.6\n"
          ]
        }
      ]
    },
    {
      "cell_type": "code",
      "source": [
        "! pip install catboost"
      ],
      "metadata": {
        "colab": {
          "base_uri": "https://localhost:8080/"
        },
        "id": "JtCXy0eIhszt",
        "outputId": "6d82d126-fcde-42a9-a323-ddee42b0dcad"
      },
      "execution_count": 11,
      "outputs": [
        {
          "output_type": "stream",
          "name": "stdout",
          "text": [
            "Looking in indexes: https://pypi.org/simple, https://us-python.pkg.dev/colab-wheels/public/simple/\n",
            "Collecting catboost\n",
            "  Downloading catboost-1.1.1-cp38-none-manylinux1_x86_64.whl (76.6 MB)\n",
            "\u001b[K     |████████████████████████████████| 76.6 MB 1.1 MB/s \n",
            "\u001b[?25hRequirement already satisfied: graphviz in /usr/local/lib/python3.8/dist-packages (from catboost) (0.10.1)\n",
            "Requirement already satisfied: pandas>=0.24.0 in /usr/local/lib/python3.8/dist-packages (from catboost) (1.3.5)\n",
            "Requirement already satisfied: six in /usr/local/lib/python3.8/dist-packages (from catboost) (1.15.0)\n",
            "Requirement already satisfied: numpy>=1.16.0 in /usr/local/lib/python3.8/dist-packages (from catboost) (1.21.6)\n",
            "Requirement already satisfied: plotly in /usr/local/lib/python3.8/dist-packages (from catboost) (5.5.0)\n",
            "Requirement already satisfied: matplotlib in /usr/local/lib/python3.8/dist-packages (from catboost) (3.2.2)\n",
            "Requirement already satisfied: scipy in /usr/local/lib/python3.8/dist-packages (from catboost) (1.7.3)\n",
            "Requirement already satisfied: python-dateutil>=2.7.3 in /usr/local/lib/python3.8/dist-packages (from pandas>=0.24.0->catboost) (2.8.2)\n",
            "Requirement already satisfied: pytz>=2017.3 in /usr/local/lib/python3.8/dist-packages (from pandas>=0.24.0->catboost) (2022.6)\n",
            "Requirement already satisfied: pyparsing!=2.0.4,!=2.1.2,!=2.1.6,>=2.0.1 in /usr/local/lib/python3.8/dist-packages (from matplotlib->catboost) (3.0.9)\n",
            "Requirement already satisfied: cycler>=0.10 in /usr/local/lib/python3.8/dist-packages (from matplotlib->catboost) (0.11.0)\n",
            "Requirement already satisfied: kiwisolver>=1.0.1 in /usr/local/lib/python3.8/dist-packages (from matplotlib->catboost) (1.4.4)\n",
            "Requirement already satisfied: tenacity>=6.2.0 in /usr/local/lib/python3.8/dist-packages (from plotly->catboost) (8.1.0)\n",
            "Installing collected packages: catboost\n",
            "Successfully installed catboost-1.1.1\n"
          ]
        }
      ]
    },
    {
      "cell_type": "code",
      "source": [
        "import matplotlib.pyplot as plt\n",
        "import warnings\n",
        "import seaborn as sns\n",
        "from colorama import Fore, Back, Style \n",
        "from sklearn.model_selection import train_test_split\n",
        "from sklearn.metrics import confusion_matrix, accuracy_score\n",
        "from mlxtend.plotting import plot_confusion_matrix\n",
        "from plotly.offline import plot, iplot, init_notebook_mode\n",
        "import plotly.graph_objs as go\n",
        "from plotly.subplots import make_subplots\n",
        "import plotly.express as px\n",
        "from statsmodels.formula.api import ols\n",
        "import plotly.graph_objs as gobj\n",
        "\n",
        "init_notebook_mode(connected=True)\n",
        "warnings.filterwarnings(\"ignore\")\n",
        "import plotly.figure_factory as ff\n",
        "\n",
        "%matplotlib inline\n",
        "\n",
        "import xgboost\n",
        "import lightgbm\n",
        "from sklearn.svm import SVC\n",
        "from sklearn.ensemble import GradientBoostingClassifier\n",
        "from sklearn.ensemble import RandomForestClassifier\n",
        "from sklearn.tree import DecisionTreeClassifier\n",
        "from sklearn.neighbors import KNeighborsClassifier\n",
        "from sklearn.linear_model import LogisticRegression\n",
        "from catboost import CatBoostClassifier"
      ],
      "metadata": {
        "colab": {
          "base_uri": "https://localhost:8080/",
          "height": 17
        },
        "id": "6n3_qxFOhXHI",
        "outputId": "1240975f-8dae-43c1-e742-cfd919e8c700"
      },
      "execution_count": 12,
      "outputs": [
        {
          "output_type": "display_data",
          "data": {
            "text/html": [
              "        <script type=\"text/javascript\">\n",
              "        window.PlotlyConfig = {MathJaxConfig: 'local'};\n",
              "        if (window.MathJax) {MathJax.Hub.Config({SVG: {font: \"STIX-Web\"}});}\n",
              "        if (typeof require !== 'undefined') {\n",
              "        require.undef(\"plotly\");\n",
              "        requirejs.config({\n",
              "            paths: {\n",
              "                'plotly': ['https://cdn.plot.ly/plotly-2.8.3.min']\n",
              "            }\n",
              "        });\n",
              "        require(['plotly'], function(Plotly) {\n",
              "            window._Plotly = Plotly;\n",
              "        });\n",
              "        }\n",
              "        </script>\n",
              "        "
            ]
          },
          "metadata": {}
        }
      ]
    },
    {
      "cell_type": "code",
      "source": [
        "heart_data = pd.read_csv('https://raw.githubusercontent.com/abdelmonem808/Heart-Attack-Prediction-with-Machine-Learning/main/heart_failure_clinical_records_dataset.csv')\n",
        "heart_data.head()"
      ],
      "metadata": {
        "colab": {
          "base_uri": "https://localhost:8080/",
          "height": 206
        },
        "id": "Gkl-MJNShd2W",
        "outputId": "a941ba49-f6d2-4e58-e522-ed00ca5c3040"
      },
      "execution_count": 17,
      "outputs": [
        {
          "output_type": "execute_result",
          "data": {
            "text/plain": [
              "    age  anaemia  creatinine_phosphokinase  diabetes  ejection_fraction  \\\n",
              "0  75.0        0                       582         0                 20   \n",
              "1  55.0        0                      7861         0                 38   \n",
              "2  65.0        0                       146         0                 20   \n",
              "3  50.0        1                       111         0                 20   \n",
              "4  65.0        1                       160         1                 20   \n",
              "\n",
              "   high_blood_pressure  platelets  serum_creatinine  serum_sodium  sex  \\\n",
              "0                    1  265000.00               1.9           130    1   \n",
              "1                    0  263358.03               1.1           136    1   \n",
              "2                    0  162000.00               1.3           129    1   \n",
              "3                    0  210000.00               1.9           137    1   \n",
              "4                    0  327000.00               2.7           116    0   \n",
              "\n",
              "   smoking  time  DEATH_EVENT  \n",
              "0        0     4            1  \n",
              "1        0     6            1  \n",
              "2        1     7            1  \n",
              "3        0     7            1  \n",
              "4        0     8            1  "
            ],
            "text/html": [
              "\n",
              "  <div id=\"df-3f677948-4734-469b-821d-cbb8563cab43\">\n",
              "    <div class=\"colab-df-container\">\n",
              "      <div>\n",
              "<style scoped>\n",
              "    .dataframe tbody tr th:only-of-type {\n",
              "        vertical-align: middle;\n",
              "    }\n",
              "\n",
              "    .dataframe tbody tr th {\n",
              "        vertical-align: top;\n",
              "    }\n",
              "\n",
              "    .dataframe thead th {\n",
              "        text-align: right;\n",
              "    }\n",
              "</style>\n",
              "<table border=\"1\" class=\"dataframe\">\n",
              "  <thead>\n",
              "    <tr style=\"text-align: right;\">\n",
              "      <th></th>\n",
              "      <th>age</th>\n",
              "      <th>anaemia</th>\n",
              "      <th>creatinine_phosphokinase</th>\n",
              "      <th>diabetes</th>\n",
              "      <th>ejection_fraction</th>\n",
              "      <th>high_blood_pressure</th>\n",
              "      <th>platelets</th>\n",
              "      <th>serum_creatinine</th>\n",
              "      <th>serum_sodium</th>\n",
              "      <th>sex</th>\n",
              "      <th>smoking</th>\n",
              "      <th>time</th>\n",
              "      <th>DEATH_EVENT</th>\n",
              "    </tr>\n",
              "  </thead>\n",
              "  <tbody>\n",
              "    <tr>\n",
              "      <th>0</th>\n",
              "      <td>75.0</td>\n",
              "      <td>0</td>\n",
              "      <td>582</td>\n",
              "      <td>0</td>\n",
              "      <td>20</td>\n",
              "      <td>1</td>\n",
              "      <td>265000.00</td>\n",
              "      <td>1.9</td>\n",
              "      <td>130</td>\n",
              "      <td>1</td>\n",
              "      <td>0</td>\n",
              "      <td>4</td>\n",
              "      <td>1</td>\n",
              "    </tr>\n",
              "    <tr>\n",
              "      <th>1</th>\n",
              "      <td>55.0</td>\n",
              "      <td>0</td>\n",
              "      <td>7861</td>\n",
              "      <td>0</td>\n",
              "      <td>38</td>\n",
              "      <td>0</td>\n",
              "      <td>263358.03</td>\n",
              "      <td>1.1</td>\n",
              "      <td>136</td>\n",
              "      <td>1</td>\n",
              "      <td>0</td>\n",
              "      <td>6</td>\n",
              "      <td>1</td>\n",
              "    </tr>\n",
              "    <tr>\n",
              "      <th>2</th>\n",
              "      <td>65.0</td>\n",
              "      <td>0</td>\n",
              "      <td>146</td>\n",
              "      <td>0</td>\n",
              "      <td>20</td>\n",
              "      <td>0</td>\n",
              "      <td>162000.00</td>\n",
              "      <td>1.3</td>\n",
              "      <td>129</td>\n",
              "      <td>1</td>\n",
              "      <td>1</td>\n",
              "      <td>7</td>\n",
              "      <td>1</td>\n",
              "    </tr>\n",
              "    <tr>\n",
              "      <th>3</th>\n",
              "      <td>50.0</td>\n",
              "      <td>1</td>\n",
              "      <td>111</td>\n",
              "      <td>0</td>\n",
              "      <td>20</td>\n",
              "      <td>0</td>\n",
              "      <td>210000.00</td>\n",
              "      <td>1.9</td>\n",
              "      <td>137</td>\n",
              "      <td>1</td>\n",
              "      <td>0</td>\n",
              "      <td>7</td>\n",
              "      <td>1</td>\n",
              "    </tr>\n",
              "    <tr>\n",
              "      <th>4</th>\n",
              "      <td>65.0</td>\n",
              "      <td>1</td>\n",
              "      <td>160</td>\n",
              "      <td>1</td>\n",
              "      <td>20</td>\n",
              "      <td>0</td>\n",
              "      <td>327000.00</td>\n",
              "      <td>2.7</td>\n",
              "      <td>116</td>\n",
              "      <td>0</td>\n",
              "      <td>0</td>\n",
              "      <td>8</td>\n",
              "      <td>1</td>\n",
              "    </tr>\n",
              "  </tbody>\n",
              "</table>\n",
              "</div>\n",
              "      <button class=\"colab-df-convert\" onclick=\"convertToInteractive('df-3f677948-4734-469b-821d-cbb8563cab43')\"\n",
              "              title=\"Convert this dataframe to an interactive table.\"\n",
              "              style=\"display:none;\">\n",
              "        \n",
              "  <svg xmlns=\"http://www.w3.org/2000/svg\" height=\"24px\"viewBox=\"0 0 24 24\"\n",
              "       width=\"24px\">\n",
              "    <path d=\"M0 0h24v24H0V0z\" fill=\"none\"/>\n",
              "    <path d=\"M18.56 5.44l.94 2.06.94-2.06 2.06-.94-2.06-.94-.94-2.06-.94 2.06-2.06.94zm-11 1L8.5 8.5l.94-2.06 2.06-.94-2.06-.94L8.5 2.5l-.94 2.06-2.06.94zm10 10l.94 2.06.94-2.06 2.06-.94-2.06-.94-.94-2.06-.94 2.06-2.06.94z\"/><path d=\"M17.41 7.96l-1.37-1.37c-.4-.4-.92-.59-1.43-.59-.52 0-1.04.2-1.43.59L10.3 9.45l-7.72 7.72c-.78.78-.78 2.05 0 2.83L4 21.41c.39.39.9.59 1.41.59.51 0 1.02-.2 1.41-.59l7.78-7.78 2.81-2.81c.8-.78.8-2.07 0-2.86zM5.41 20L4 18.59l7.72-7.72 1.47 1.35L5.41 20z\"/>\n",
              "  </svg>\n",
              "      </button>\n",
              "      \n",
              "  <style>\n",
              "    .colab-df-container {\n",
              "      display:flex;\n",
              "      flex-wrap:wrap;\n",
              "      gap: 12px;\n",
              "    }\n",
              "\n",
              "    .colab-df-convert {\n",
              "      background-color: #E8F0FE;\n",
              "      border: none;\n",
              "      border-radius: 50%;\n",
              "      cursor: pointer;\n",
              "      display: none;\n",
              "      fill: #1967D2;\n",
              "      height: 32px;\n",
              "      padding: 0 0 0 0;\n",
              "      width: 32px;\n",
              "    }\n",
              "\n",
              "    .colab-df-convert:hover {\n",
              "      background-color: #E2EBFA;\n",
              "      box-shadow: 0px 1px 2px rgba(60, 64, 67, 0.3), 0px 1px 3px 1px rgba(60, 64, 67, 0.15);\n",
              "      fill: #174EA6;\n",
              "    }\n",
              "\n",
              "    [theme=dark] .colab-df-convert {\n",
              "      background-color: #3B4455;\n",
              "      fill: #D2E3FC;\n",
              "    }\n",
              "\n",
              "    [theme=dark] .colab-df-convert:hover {\n",
              "      background-color: #434B5C;\n",
              "      box-shadow: 0px 1px 3px 1px rgba(0, 0, 0, 0.15);\n",
              "      filter: drop-shadow(0px 1px 2px rgba(0, 0, 0, 0.3));\n",
              "      fill: #FFFFFF;\n",
              "    }\n",
              "  </style>\n",
              "\n",
              "      <script>\n",
              "        const buttonEl =\n",
              "          document.querySelector('#df-3f677948-4734-469b-821d-cbb8563cab43 button.colab-df-convert');\n",
              "        buttonEl.style.display =\n",
              "          google.colab.kernel.accessAllowed ? 'block' : 'none';\n",
              "\n",
              "        async function convertToInteractive(key) {\n",
              "          const element = document.querySelector('#df-3f677948-4734-469b-821d-cbb8563cab43');\n",
              "          const dataTable =\n",
              "            await google.colab.kernel.invokeFunction('convertToInteractive',\n",
              "                                                     [key], {});\n",
              "          if (!dataTable) return;\n",
              "\n",
              "          const docLinkHtml = 'Like what you see? Visit the ' +\n",
              "            '<a target=\"_blank\" href=https://colab.research.google.com/notebooks/data_table.ipynb>data table notebook</a>'\n",
              "            + ' to learn more about interactive tables.';\n",
              "          element.innerHTML = '';\n",
              "          dataTable['output_type'] = 'display_data';\n",
              "          await google.colab.output.renderOutput(dataTable, element);\n",
              "          const docLink = document.createElement('div');\n",
              "          docLink.innerHTML = docLinkHtml;\n",
              "          element.appendChild(docLink);\n",
              "        }\n",
              "      </script>\n",
              "    </div>\n",
              "  </div>\n",
              "  "
            ]
          },
          "metadata": {},
          "execution_count": 17
        }
      ]
    },
    {
      "cell_type": "code",
      "source": [
        "# age distribution\n",
        "\n",
        "hist_data =[heart_data[\"age\"].values]\n",
        "group_labels = ['age'] \n",
        "\n",
        "fig = ff.create_distplot(hist_data, group_labels)\n",
        "fig.update_layout(title_text='Age Distribution plot')\n",
        "\n",
        "fig.show()"
      ],
      "metadata": {
        "colab": {
          "base_uri": "https://localhost:8080/",
          "height": 542
        },
        "id": "kMc8ikVhh3Q2",
        "outputId": "e72208a6-3ec5-4c81-cf0d-afcb452dd4d7"
      },
      "execution_count": 19,
      "outputs": [
        {
          "output_type": "display_data",
          "data": {
            "application/vnd.plotly.v1+json": {
              "data": [
                {
                  "autobinx": false,
                  "histnorm": "probability density",
                  "legendgroup": "age",
                  "marker": {
                    "color": "rgb(31, 119, 180)"
                  },
                  "name": "age",
                  "opacity": 0.7,
                  "x": [
                    75,
                    55,
                    65,
                    50,
                    65,
                    90,
                    75,
                    60,
                    65,
                    80,
                    75,
                    62,
                    45,
                    50,
                    49,
                    82,
                    87,
                    45,
                    70,
                    48,
                    65,
                    65,
                    68,
                    53,
                    75,
                    80,
                    95,
                    70,
                    58,
                    82,
                    94,
                    85,
                    50,
                    50,
                    65,
                    69,
                    90,
                    82,
                    60,
                    60,
                    70,
                    50,
                    70,
                    72,
                    60,
                    50,
                    51,
                    60,
                    80,
                    57,
                    68,
                    53,
                    60,
                    70,
                    60,
                    95,
                    70,
                    60,
                    49,
                    72,
                    45,
                    50,
                    55,
                    45,
                    45,
                    60,
                    42,
                    72,
                    70,
                    65,
                    41,
                    58,
                    85,
                    65,
                    69,
                    60,
                    70,
                    42,
                    75,
                    55,
                    70,
                    67,
                    60,
                    79,
                    59,
                    51,
                    55,
                    65,
                    44,
                    57,
                    70,
                    60,
                    42,
                    60,
                    58,
                    58,
                    63,
                    70,
                    60,
                    63,
                    65,
                    75,
                    80,
                    42,
                    60,
                    72,
                    55,
                    45,
                    63,
                    45,
                    85,
                    55,
                    50,
                    70,
                    60,
                    58,
                    60,
                    85,
                    65,
                    86,
                    60,
                    66,
                    60,
                    60,
                    60,
                    43,
                    46,
                    58,
                    61,
                    53,
                    53,
                    60,
                    46,
                    63,
                    81,
                    75,
                    65,
                    68,
                    62,
                    50,
                    80,
                    46,
                    50,
                    61,
                    72,
                    50,
                    52,
                    64,
                    75,
                    60,
                    72,
                    62,
                    50,
                    50,
                    65,
                    60,
                    52,
                    50,
                    85,
                    59,
                    66,
                    45,
                    63,
                    50,
                    45,
                    80,
                    53,
                    59,
                    65,
                    70,
                    51,
                    52,
                    70,
                    50,
                    65,
                    60,
                    69,
                    49,
                    63,
                    55,
                    40,
                    59,
                    65,
                    75,
                    58,
                    60.667,
                    50,
                    60,
                    60.667,
                    40,
                    80,
                    64,
                    50,
                    73,
                    45,
                    77,
                    45,
                    65,
                    50,
                    60,
                    63,
                    45,
                    70,
                    60,
                    78,
                    50,
                    40,
                    85,
                    60,
                    49,
                    70,
                    50,
                    78,
                    48,
                    65,
                    73,
                    70,
                    54,
                    68,
                    55,
                    73,
                    65,
                    42,
                    47,
                    58,
                    75,
                    58,
                    55,
                    65,
                    72,
                    60,
                    70,
                    40,
                    53,
                    53,
                    77,
                    75,
                    70,
                    65,
                    55,
                    70,
                    65,
                    40,
                    73,
                    54,
                    61,
                    55,
                    64,
                    40,
                    53,
                    50,
                    55,
                    50,
                    70,
                    53,
                    52,
                    65,
                    58,
                    45,
                    53,
                    55,
                    62,
                    65,
                    68,
                    61,
                    50,
                    55,
                    56,
                    45,
                    40,
                    44,
                    51,
                    67,
                    42,
                    60,
                    45,
                    70,
                    70,
                    50,
                    55,
                    70,
                    70,
                    42,
                    65,
                    50,
                    55,
                    60,
                    45,
                    65,
                    90,
                    45,
                    60,
                    52,
                    63,
                    62,
                    55,
                    45,
                    45,
                    50
                  ],
                  "xaxis": "x",
                  "xbins": {
                    "end": 95,
                    "size": 1,
                    "start": 40
                  },
                  "yaxis": "y",
                  "type": "histogram"
                },
                {
                  "legendgroup": "age",
                  "marker": {
                    "color": "rgb(31, 119, 180)"
                  },
                  "mode": "lines",
                  "name": "age",
                  "showlegend": false,
                  "x": [
                    40,
                    40.11,
                    40.22,
                    40.33,
                    40.44,
                    40.55,
                    40.66,
                    40.77,
                    40.88,
                    40.99,
                    41.1,
                    41.21,
                    41.32,
                    41.43,
                    41.54,
                    41.65,
                    41.76,
                    41.87,
                    41.98,
                    42.09,
                    42.2,
                    42.31,
                    42.42,
                    42.53,
                    42.64,
                    42.75,
                    42.86,
                    42.97,
                    43.08,
                    43.19,
                    43.3,
                    43.41,
                    43.52,
                    43.63,
                    43.74,
                    43.85,
                    43.96,
                    44.07,
                    44.18,
                    44.29,
                    44.4,
                    44.51,
                    44.62,
                    44.730000000000004,
                    44.84,
                    44.95,
                    45.06,
                    45.17,
                    45.28,
                    45.39,
                    45.5,
                    45.61,
                    45.72,
                    45.83,
                    45.94,
                    46.05,
                    46.16,
                    46.269999999999996,
                    46.38,
                    46.49,
                    46.6,
                    46.71,
                    46.82,
                    46.93,
                    47.04,
                    47.15,
                    47.26,
                    47.37,
                    47.480000000000004,
                    47.59,
                    47.7,
                    47.81,
                    47.92,
                    48.03,
                    48.14,
                    48.25,
                    48.36,
                    48.47,
                    48.58,
                    48.69,
                    48.8,
                    48.91,
                    49.019999999999996,
                    49.13,
                    49.24,
                    49.35,
                    49.46,
                    49.57,
                    49.68,
                    49.79,
                    49.9,
                    50.01,
                    50.12,
                    50.230000000000004,
                    50.34,
                    50.45,
                    50.56,
                    50.67,
                    50.78,
                    50.89,
                    51,
                    51.11,
                    51.22,
                    51.33,
                    51.44,
                    51.55,
                    51.66,
                    51.769999999999996,
                    51.88,
                    51.99,
                    52.1,
                    52.21,
                    52.32,
                    52.43,
                    52.54,
                    52.65,
                    52.76,
                    52.87,
                    52.980000000000004,
                    53.09,
                    53.2,
                    53.31,
                    53.42,
                    53.53,
                    53.64,
                    53.75,
                    53.86,
                    53.97,
                    54.08,
                    54.19,
                    54.3,
                    54.41,
                    54.519999999999996,
                    54.63,
                    54.74,
                    54.85,
                    54.96,
                    55.07,
                    55.18,
                    55.29,
                    55.4,
                    55.51,
                    55.62,
                    55.730000000000004,
                    55.84,
                    55.95,
                    56.06,
                    56.17,
                    56.28,
                    56.39,
                    56.5,
                    56.61,
                    56.72,
                    56.83,
                    56.94,
                    57.05,
                    57.16,
                    57.269999999999996,
                    57.379999999999995,
                    57.489999999999995,
                    57.6,
                    57.71,
                    57.82,
                    57.93,
                    58.04,
                    58.15,
                    58.260000000000005,
                    58.370000000000005,
                    58.480000000000004,
                    58.59,
                    58.7,
                    58.81,
                    58.92,
                    59.03,
                    59.14,
                    59.25,
                    59.36,
                    59.47,
                    59.58,
                    59.69,
                    59.8,
                    59.91,
                    60.019999999999996,
                    60.129999999999995,
                    60.239999999999995,
                    60.35,
                    60.46,
                    60.57,
                    60.68,
                    60.79,
                    60.9,
                    61.010000000000005,
                    61.120000000000005,
                    61.230000000000004,
                    61.34,
                    61.45,
                    61.56,
                    61.67,
                    61.78,
                    61.89,
                    62,
                    62.11,
                    62.22,
                    62.33,
                    62.44,
                    62.55,
                    62.66,
                    62.769999999999996,
                    62.879999999999995,
                    62.989999999999995,
                    63.1,
                    63.21,
                    63.32,
                    63.43,
                    63.54,
                    63.65,
                    63.760000000000005,
                    63.870000000000005,
                    63.980000000000004,
                    64.09,
                    64.2,
                    64.31,
                    64.42,
                    64.53,
                    64.64,
                    64.75,
                    64.86,
                    64.97,
                    65.08,
                    65.19,
                    65.3,
                    65.41,
                    65.52,
                    65.63,
                    65.74,
                    65.85,
                    65.96000000000001,
                    66.07,
                    66.18,
                    66.28999999999999,
                    66.4,
                    66.51,
                    66.62,
                    66.73,
                    66.84,
                    66.95,
                    67.06,
                    67.17,
                    67.28,
                    67.39,
                    67.5,
                    67.61,
                    67.72,
                    67.83,
                    67.94,
                    68.05,
                    68.16,
                    68.27,
                    68.38,
                    68.49,
                    68.6,
                    68.71000000000001,
                    68.82,
                    68.93,
                    69.03999999999999,
                    69.15,
                    69.26,
                    69.37,
                    69.48,
                    69.59,
                    69.7,
                    69.81,
                    69.92,
                    70.03,
                    70.14,
                    70.25,
                    70.36,
                    70.47,
                    70.58,
                    70.69,
                    70.8,
                    70.91,
                    71.02,
                    71.13,
                    71.24,
                    71.35,
                    71.46000000000001,
                    71.57,
                    71.68,
                    71.78999999999999,
                    71.9,
                    72.00999999999999,
                    72.12,
                    72.22999999999999,
                    72.34,
                    72.45,
                    72.56,
                    72.67,
                    72.78,
                    72.89,
                    73,
                    73.11,
                    73.22,
                    73.33,
                    73.44,
                    73.55,
                    73.66,
                    73.77000000000001,
                    73.88,
                    73.99000000000001,
                    74.1,
                    74.21000000000001,
                    74.32,
                    74.43,
                    74.53999999999999,
                    74.65,
                    74.75999999999999,
                    74.87,
                    74.97999999999999,
                    75.09,
                    75.2,
                    75.31,
                    75.42,
                    75.53,
                    75.64,
                    75.75,
                    75.86,
                    75.97,
                    76.08,
                    76.19,
                    76.3,
                    76.41,
                    76.52000000000001,
                    76.63,
                    76.74000000000001,
                    76.85,
                    76.96000000000001,
                    77.07,
                    77.18,
                    77.28999999999999,
                    77.4,
                    77.50999999999999,
                    77.62,
                    77.72999999999999,
                    77.84,
                    77.95,
                    78.06,
                    78.17,
                    78.28,
                    78.39,
                    78.5,
                    78.61,
                    78.72,
                    78.83,
                    78.94,
                    79.05,
                    79.16,
                    79.27000000000001,
                    79.38,
                    79.49000000000001,
                    79.6,
                    79.71000000000001,
                    79.82,
                    79.93,
                    80.03999999999999,
                    80.15,
                    80.25999999999999,
                    80.37,
                    80.47999999999999,
                    80.59,
                    80.7,
                    80.81,
                    80.92,
                    81.03,
                    81.14,
                    81.25,
                    81.36,
                    81.47,
                    81.58,
                    81.69,
                    81.8,
                    81.91,
                    82.02000000000001,
                    82.13,
                    82.24000000000001,
                    82.35,
                    82.46000000000001,
                    82.57,
                    82.68,
                    82.78999999999999,
                    82.9,
                    83.00999999999999,
                    83.12,
                    83.22999999999999,
                    83.34,
                    83.45,
                    83.56,
                    83.67,
                    83.78,
                    83.89,
                    84,
                    84.11,
                    84.22,
                    84.33,
                    84.44,
                    84.55,
                    84.66,
                    84.77000000000001,
                    84.88,
                    84.99000000000001,
                    85.1,
                    85.21000000000001,
                    85.32,
                    85.43,
                    85.53999999999999,
                    85.65,
                    85.75999999999999,
                    85.87,
                    85.97999999999999,
                    86.09,
                    86.2,
                    86.31,
                    86.42,
                    86.53,
                    86.64,
                    86.75,
                    86.86,
                    86.97,
                    87.08,
                    87.19,
                    87.3,
                    87.41,
                    87.52000000000001,
                    87.63,
                    87.74000000000001,
                    87.85,
                    87.96000000000001,
                    88.07,
                    88.18,
                    88.28999999999999,
                    88.4,
                    88.50999999999999,
                    88.62,
                    88.72999999999999,
                    88.84,
                    88.95,
                    89.06,
                    89.17,
                    89.28,
                    89.39,
                    89.5,
                    89.61,
                    89.72,
                    89.83,
                    89.94,
                    90.05,
                    90.16,
                    90.27000000000001,
                    90.38,
                    90.49000000000001,
                    90.6,
                    90.71000000000001,
                    90.82,
                    90.93,
                    91.03999999999999,
                    91.15,
                    91.25999999999999,
                    91.37,
                    91.47999999999999,
                    91.59,
                    91.7,
                    91.81,
                    91.92,
                    92.03,
                    92.14,
                    92.25,
                    92.36,
                    92.47,
                    92.58,
                    92.69,
                    92.8,
                    92.91,
                    93.02000000000001,
                    93.13,
                    93.24000000000001,
                    93.35,
                    93.46000000000001,
                    93.57,
                    93.68,
                    93.78999999999999,
                    93.9,
                    94.00999999999999,
                    94.12,
                    94.22999999999999,
                    94.34,
                    94.45,
                    94.56,
                    94.67,
                    94.78,
                    94.89
                  ],
                  "xaxis": "x",
                  "y": [
                    0.009278580261905384,
                    0.0094938463446575,
                    0.009709942017945495,
                    0.009926756744584262,
                    0.010144180923897348,
                    0.010362106165255599,
                    0.010580425557159689,
                    0.010799033930689383,
                    0.011017828116131665,
                    0.011236707191591193,
                    0.011455572722384,
                    0.011674328990017607,
                    0.011892883209567724,
                    0.012111145734276236,
                    0.012329030246215258,
                    0.012546453931888775,
                    0.012763337641678352,
                    0.012979606032081831,
                    0.013195187689743742,
                    0.013410015236335695,
                    0.013624025413411553,
                    0.013837159146439872,
                    0.014049361587299726,
                    0.01426058213462163,
                    0.014470774431457532,
                    0.014679896339876555,
                    0.014887909892202802,
                    0.015094781218740527,
                    0.015300480451968345,
                    0.01550498160732627,
                    0.015708262440870466,
                    0.01591030428422435,
                    0.01611109185741427,
                    0.01631061306034132,
                    0.016508858743806334,
                    0.016705822461170507,
                    0.01690150020190048,
                    0.017095890108411515,
                    0.017288992177782837,
                    0.017480807950075228,
                    0.017671340185131588,
                    0.017860592529883406,
                    0.018048569178316758,
                    0.018235274526376036,
                    0.018420712824188782,
                    0.018604887828092793,
                    0.018787802455023078,
                    0.01896945844188089,
                    0.019149856012548677,
                    0.019328993555241654,
                    0.01950686731289016,
                    0.019683471089231012,
                    0.019858795973248702,
                    0.020032830084546285,
                    0.02020555834214575,
                    0.02037696225911062,
                    0.020547019765259855,
                    0.020715705060092387,
                    0.020882988497873026,
                    0.021048836506641345,
                    0.021213211542696026,
                    0.021376072081882334,
                    0.021537372648764957,
                    0.021697063884514027,
                    0.021855092654058352,
                    0.022011402192781488,
                    0.02216593229274253,
                    0.02231861952810981,
                    0.022469397519190897,
                    0.02261819723414251,
                    0.022764947327138935,
                    0.022909574511478403,
                    0.023052003965815384,
                    0.02319215977141755,
                    0.02332996537807535,
                    0.02346534409602645,
                    0.023598219611014146,
                    0.02372851651936785,
                    0.023856160879784594,
                    0.023981080778304475,
                    0.024103206902805898,
                    0.02422247312320875,
                    0.024338817073458682,
                    0.024452180731279916,
                    0.024562510991625954,
                    0.02466976022972639,
                    0.024773886849630302,
                    0.024874855814173223,
                    0.024972639152355116,
                    0.02506721644020211,
                    0.025158575251302762,
                    0.025246711573351798,
                    0.0253316301872051,
                    0.025413345005145905,
                    0.025491879365282372,
                    0.025567266279239227,
                    0.02563954863057085,
                    0.025708779321605993,
                    0.025775021366734527,
                    0.025838347930462264,
                    0.025898842308888437,
                    0.02595659785359945,
                    0.026011717837320314,
                    0.026064315261018954,
                    0.026114512602515773,
                    0.026162441507011684,
                    0.026208242420302764,
                    0.026252064165808626,
                    0.026294063466890324,
                    0.02633440441627337,
                    0.02637325789472914,
                    0.026410800941486096,
                    0.02644721607914996,
                    0.026482690596207663,
                    0.02651741579046128,
                    0.026551586177000458,
                    0.02658539866455349,
                    0.026619051704278543,
                    0.02665274441524492,
                    0.02668667569102916,
                    0.02672104329199035,
                    0.02675604292791466,
                    0.026791867335808132,
                    0.02682870535768781,
                    0.02686674102325875,
                    0.026906152642380107,
                    0.026947111912206924,
                    0.026989783043853792,
                    0.02703432191335856,
                    0.027080875241625262,
                    0.027129579807906357,
                    0.027180561701233154,
                    0.02723393561403056,
                    0.027289804181952638,
                    0.027348257373752936,
                    0.027409371934759747,
                    0.027473210887256398,
                    0.02753982309078393,
                    0.027609242865073023,
                    0.02768148967799341,
                    0.02775656790056619,
                    0.02783446663073456,
                    0.02791515958722357,
                    0.02799860507444367,
                    0.02808474601901188,
                    0.028173510078075777,
                    0.02826480981923451,
                    0.02835854297145724,
                    0.02845459274600961,
                    0.02855282822600891,
                    0.02865310482285001,
                    0.028755264797366065,
                    0.028859137843230714,
                    0.028964541729754448,
                    0.029071283000898594,
                    0.029179157727009474,
                    0.029287952305484196,
                    0.029397444306302863,
                    0.029507403358112666,
                    0.029617592070326104,
                    0.029727766986498236,
                    0.029837679564080753,
                    0.02994707717551278,
                    0.030055704125503055,
                    0.030163302679281266,
                    0.030269614096558376,
                    0.03037437966592311,
                    0.03047734173442865,
                    0.03057824472717848,
                    0.030676836151810397,
                    0.030772867582898714,
                    0.030866095621444253,
                    0.030956282824804372,
                    0.03104319860262321,
                    0.031126620074554436,
                    0.031206332885835027,
                    0.031282131977039065,
                    0.03135382230465307,
                    0.031421219509424766,
                    0.03148415052977618,
                    0.03154245415791434,
                    0.03159598153663014,
                    0.03164459659514011,
                    0.03168817642268719,
                    0.031726611578989865,
                    0.031759806340990133,
                    0.03178767888571526,
                    0.031810161409422034,
                    0.031827200183536956,
                    0.03183875554824023,
                    0.031844801844859535,
                    0.031845327288545756,
                    0.031840333782985314,
                    0.031829836679173225,
                    0.031813864480514834,
                    0.03179245849674978,
                    0.031765672449392324,
                    0.0317335720315596,
                    0.03169623442521679,
                    0.0316537477789949,
                    0.031606210649847255,
                    0.031553731411892376,
                    0.031496427635854606,
                    0.03143442544254775,
                    0.031367858833871734,
                    0.03129686900478313,
                    0.031221603639684944,
                    0.03114221619663816,
                    0.031058865182745993,
                    0.03097171342399218,
                    0.030880927332730897,
                    0.030786676175934155,
                    0.0306891313471994,
                    0.03058846564540762,
                    0.03048485256280277,
                    0.030378465585143836,
                    0.03026947750644809,
                    0.030158059760716206,
                    0.03004438177289864,
                    0.029928610331226773,
                    0.02981090898290241,
                    0.029691437455007647,
                    0.029570351102362915,
                    0.029447800383938343,
                    0.02932393036929374,
                    0.0291988802763988,
                    0.02907278304206635,
                    0.028945764926109292,
                    0.02881794515021735,
                    0.028689435572433166,
                    0.028560340397992715,
                    0.028430755927186375,
                    0.028300770340778054,
                    0.02817046352341414,
                    0.028039906925336096,
                    0.0279091634626016,
                    0.027778287455897874,
                    0.027647324607921093,
                    0.02751631201916986,
                    0.027385278241884064,
                    0.027254243371731258,
                    0.027123219176722273,
                    0.026992209262699764,
                    0.02686120927461879,
                    0.026730207132698684,
                    0.026599183302391218,
                    0.026468111096973366,
                    0.02633695701143171,
                    0.026205681086169542,
                    0.026074237298930644,
                    0.0259425739831961,
                    0.02581063427117978,
                    0.02567835655942136,
                    0.025545674994847875,
                    0.025412519979064734,
                    0.025278818688522844,
                    0.025144495608113025,
                    0.025009473075645803,
                    0.0248736718346006,
                    0.024737011592458107,
                    0.024599411581882936,
                    0.02446079112198086,
                    0.024321070176837916,
                    0.02418016990853795,
                    0.024038013221870932,
                    0.023894525297967442,
                    0.02374963411414364,
                    0.023603270947301892,
                    0.023455370858312247,
                    0.02330587315489988,
                    0.023154721830673186,
                    0.02300186597806304,
                    0.022847260173083653,
                    0.022690864829991067,
                    0.02253264652408357,
                    0.022372578281078845,
                    0.022210639831695272,
                    0.0220468178302722,
                    0.021881106036477763,
                    0.021713505459371618,
                    0.021544024463313303,
                    0.021372678835435796,
                    0.021199491814628654,
                    0.0210244940822025,
                    0.020847723714631165,
                    0.020669226098985926,
                    0.020489053811889955,
                    0.02030726646302652,
                    0.020123930504430263,
                    0.019939119006977875,
                    0.019752911405665315,
                    0.01956539321542272,
                    0.019376655719360945,
                    0.019186795631478584,
                    0.018995914735969288,
                    0.0188041195053748,
                    0.01861152069990388,
                    0.01841823295031002,
                    0.018224374326764405,
                    0.018030065896193898,
                    0.017835431270569024,
                    0.017640596148622213,
                    0.017445687853463107,
                    0.017250834868519714,
                    0.017056166374190593,
                    0.016861811787527964,
                    0.016667900307199886,
                    0.01647456046589064,
                    0.016281919692203432,
                    0.016090103884019623,
                    0.015899236995155098,
                    0.015709440637029486,
                    0.015520833696934532,
                    0.015333531974352931,
                    0.01514764783663997,
                    0.014963289895237581,
                    0.01478056270344743,
                    0.014599566476644125,
                    0.014420396835665447,
                    0.01424314457397236,
                    0.014067895449031732,
                    0.013894729998232299,
                    0.013723723379513627,
                    0.013554945236753109,
                    0.013388459589830983,
                    0.013224324749172294,
                    0.013062593254449133,
                    0.012903311837016774,
                    0.012746521405555067,
                    0.01259225705429012,
                    0.012440548093081531,
                    0.012291418098579098,
                    0.012144884985577023,
                    0.01200096109762613,
                    0.011859653315904014,
                    0.011720963185289932,
                    0.011584887056543819,
                    0.011451416243450824,
                    0.011320537193759951,
                    0.011192231672720076,
                    0.011066476957997397,
                    0.01094324604474717,
                    0.010822507859605895,
                    0.0107042274823706,
                    0.01058836637413869,
                    0.010474882610693643,
                    0.010363731119938642,
                    0.010254863922205716,
                    0.010148230372292857,
                    0.010043777402117494,
                    0.009941449762910516,
                    0.009841190265917848,
                    0.009742940020622707,
                    0.009646638669550747,
                    0.009552224618775149,
                    0.009459635263293296,
                    0.009368807206507727,
                    0.009279676473105054,
                    0.009192178714690262,
                    0.009106249407600147,
                    0.009021824042386009,
                    0.008938838304523796,
                    0.008857228245978508,
                    0.00877693044731803,
                    0.008697882170139356,
                    0.008620021499637847,
                    0.008543287477216666,
                    0.008467620223096798,
                    0.008392961048951776,
                    0.008319252560650048,
                    0.008246438751245734,
                    0.008174465084411223,
                    0.00810327856855644,
                    0.008032827821924266,
                    0.00796306312899487,
                    0.007893936488567638,
                    0.007825401653923524,
                    0.007757414165496963,
                    0.007689931376510232,
                    0.00762291247204015,
                    0.007556318481999335,
                    0.007490112288522172,
                    0.007424258628247027,
                    0.00735872408998383,
                    0.007293477108248602,
                    0.007228487953134304,
                    0.007163728716970578,
                    0.007099173298204766,
                    0.007034797382912015,
                    0.006970578424315054,
                    0.006906495620663077,
                    0.006842529891787083,
                    0.006778663854612895,
                    0.006714881797877846,
                    0.006651169656257826,
                    0.006587514984074646,
                    0.006523906928714569,
                    0.00646033620385067,
                    0.006396795062525257,
                    0.00633327727011215,
                    0.00626977807714494,
                    0.006206294191964689,
                    0.006142823753112158,
                    0.006079366301361472,
                    0.006015922751270015,
                    0.0059524953620979145,
                    0.005889087707934707,
                    0.0058257046468567705,
                    0.005762352288931351,
                    0.0056990379628756764,
                    0.005635770181180636,
                    0.005572558603508486,
                    0.005509413998181905,
                    0.005446348201590365,
                    0.005383374075353626,
                    0.0053205054610980605,
                    0.005257757132721113,
                    0.005195144746040957,
                    0.005132684785753487,
                    0.005070394509644003,
                    0.005008291890030984,
                    0.004946395552446823,
                    0.004884724711592645,
                    0.004823299104634315,
                    0.0047621389219389175,
                    0.004701264735381418,
                    0.004640697424382723,
                    0.00458045809986977,
                    0.004520568026377115,
                    0.0044610485425368865,
                    0.004401920980229372,
                    0.0043432065826900824,
                    0.004284926421890157,
                    0.0042271013155263815,
                    0.004169751743972383,
                    0.004112897767557139,
                    0.004056558944546446,
                    0.0040007542502115655,
                    0.003945501997373203,
                    0.0038908197588115585,
                    0.0038367242919308715,
                    0.0037832314660637694,
                    0.003730356192792589,
                    0.00367811235965628,
                    0.0036265127675974554,
                    0.003575569072490734,
                    0.003525291731074774,
                    0.003475689951591607,
                    0.0034267716494149475,
                    0.003378543407925249,
                    0.0033310104448647875,
                    0.003284176584378605,
                    0.003238044234919543,
                    0.003192614373166391,
                    0.0031478865340742565,
                    0.003103858807145334,
                    0.003060527838977364,
                    0.003017888842115247,
                    0.002975935610199882,
                    0.0029346605393763235,
                    0.0028940546558922486,
                    0.002854107649786426,
                    0.00281480791453626,
                    0.0027761425925037736,
                    0.002738097625990081,
                    0.002700657813680286,
                    0.0026638068722337413,
                    0.002627527502748126,
                    0.0025918014618020934,
                    0.002556609636756832,
                    0.0025219321249761104,
                    0.0024877483166034415,
                    0.0024540369805171325,
                    0.0024207763530668647,
                    0.0023879442291807485,
                    0.0023555180554189997,
                    0.0023234750245393555,
                    0.002291792171130615,
                    0.002260446467863983,
                    0.0022294149219074344,
                    0.0021986746710461447,
                    0.0021682030790519152,
                    0.0021379778298470545,
                    0.0021079770200127614,
                    0.00207817924919904,
                    0.002048563708002719,
                    0.0020191102628915303,
                    0.0019897995377665617,
                    0.0019606129917712485,
                    0.0019315329929739573,
                    0.001902542887571333,
                    0.0018736270642826832,
                    0.0018447710136299071,
                    0.0018159613818242376,
                    0.0017871860190088633,
                    0.001758434021636693,
                    0.0017296957687931143,
                    0.0017009629523064844,
                    0.0016722286005221086,
                    0.0016434870956500052
                  ],
                  "yaxis": "y",
                  "type": "scatter"
                },
                {
                  "legendgroup": "age",
                  "marker": {
                    "color": "rgb(31, 119, 180)",
                    "symbol": "line-ns-open"
                  },
                  "mode": "markers",
                  "name": "age",
                  "showlegend": false,
                  "x": [
                    75,
                    55,
                    65,
                    50,
                    65,
                    90,
                    75,
                    60,
                    65,
                    80,
                    75,
                    62,
                    45,
                    50,
                    49,
                    82,
                    87,
                    45,
                    70,
                    48,
                    65,
                    65,
                    68,
                    53,
                    75,
                    80,
                    95,
                    70,
                    58,
                    82,
                    94,
                    85,
                    50,
                    50,
                    65,
                    69,
                    90,
                    82,
                    60,
                    60,
                    70,
                    50,
                    70,
                    72,
                    60,
                    50,
                    51,
                    60,
                    80,
                    57,
                    68,
                    53,
                    60,
                    70,
                    60,
                    95,
                    70,
                    60,
                    49,
                    72,
                    45,
                    50,
                    55,
                    45,
                    45,
                    60,
                    42,
                    72,
                    70,
                    65,
                    41,
                    58,
                    85,
                    65,
                    69,
                    60,
                    70,
                    42,
                    75,
                    55,
                    70,
                    67,
                    60,
                    79,
                    59,
                    51,
                    55,
                    65,
                    44,
                    57,
                    70,
                    60,
                    42,
                    60,
                    58,
                    58,
                    63,
                    70,
                    60,
                    63,
                    65,
                    75,
                    80,
                    42,
                    60,
                    72,
                    55,
                    45,
                    63,
                    45,
                    85,
                    55,
                    50,
                    70,
                    60,
                    58,
                    60,
                    85,
                    65,
                    86,
                    60,
                    66,
                    60,
                    60,
                    60,
                    43,
                    46,
                    58,
                    61,
                    53,
                    53,
                    60,
                    46,
                    63,
                    81,
                    75,
                    65,
                    68,
                    62,
                    50,
                    80,
                    46,
                    50,
                    61,
                    72,
                    50,
                    52,
                    64,
                    75,
                    60,
                    72,
                    62,
                    50,
                    50,
                    65,
                    60,
                    52,
                    50,
                    85,
                    59,
                    66,
                    45,
                    63,
                    50,
                    45,
                    80,
                    53,
                    59,
                    65,
                    70,
                    51,
                    52,
                    70,
                    50,
                    65,
                    60,
                    69,
                    49,
                    63,
                    55,
                    40,
                    59,
                    65,
                    75,
                    58,
                    60.667,
                    50,
                    60,
                    60.667,
                    40,
                    80,
                    64,
                    50,
                    73,
                    45,
                    77,
                    45,
                    65,
                    50,
                    60,
                    63,
                    45,
                    70,
                    60,
                    78,
                    50,
                    40,
                    85,
                    60,
                    49,
                    70,
                    50,
                    78,
                    48,
                    65,
                    73,
                    70,
                    54,
                    68,
                    55,
                    73,
                    65,
                    42,
                    47,
                    58,
                    75,
                    58,
                    55,
                    65,
                    72,
                    60,
                    70,
                    40,
                    53,
                    53,
                    77,
                    75,
                    70,
                    65,
                    55,
                    70,
                    65,
                    40,
                    73,
                    54,
                    61,
                    55,
                    64,
                    40,
                    53,
                    50,
                    55,
                    50,
                    70,
                    53,
                    52,
                    65,
                    58,
                    45,
                    53,
                    55,
                    62,
                    65,
                    68,
                    61,
                    50,
                    55,
                    56,
                    45,
                    40,
                    44,
                    51,
                    67,
                    42,
                    60,
                    45,
                    70,
                    70,
                    50,
                    55,
                    70,
                    70,
                    42,
                    65,
                    50,
                    55,
                    60,
                    45,
                    65,
                    90,
                    45,
                    60,
                    52,
                    63,
                    62,
                    55,
                    45,
                    45,
                    50
                  ],
                  "xaxis": "x",
                  "y": [
                    "age",
                    "age",
                    "age",
                    "age",
                    "age",
                    "age",
                    "age",
                    "age",
                    "age",
                    "age",
                    "age",
                    "age",
                    "age",
                    "age",
                    "age",
                    "age",
                    "age",
                    "age",
                    "age",
                    "age",
                    "age",
                    "age",
                    "age",
                    "age",
                    "age",
                    "age",
                    "age",
                    "age",
                    "age",
                    "age",
                    "age",
                    "age",
                    "age",
                    "age",
                    "age",
                    "age",
                    "age",
                    "age",
                    "age",
                    "age",
                    "age",
                    "age",
                    "age",
                    "age",
                    "age",
                    "age",
                    "age",
                    "age",
                    "age",
                    "age",
                    "age",
                    "age",
                    "age",
                    "age",
                    "age",
                    "age",
                    "age",
                    "age",
                    "age",
                    "age",
                    "age",
                    "age",
                    "age",
                    "age",
                    "age",
                    "age",
                    "age",
                    "age",
                    "age",
                    "age",
                    "age",
                    "age",
                    "age",
                    "age",
                    "age",
                    "age",
                    "age",
                    "age",
                    "age",
                    "age",
                    "age",
                    "age",
                    "age",
                    "age",
                    "age",
                    "age",
                    "age",
                    "age",
                    "age",
                    "age",
                    "age",
                    "age",
                    "age",
                    "age",
                    "age",
                    "age",
                    "age",
                    "age",
                    "age",
                    "age",
                    "age",
                    "age",
                    "age",
                    "age",
                    "age",
                    "age",
                    "age",
                    "age",
                    "age",
                    "age",
                    "age",
                    "age",
                    "age",
                    "age",
                    "age",
                    "age",
                    "age",
                    "age",
                    "age",
                    "age",
                    "age",
                    "age",
                    "age",
                    "age",
                    "age",
                    "age",
                    "age",
                    "age",
                    "age",
                    "age",
                    "age",
                    "age",
                    "age",
                    "age",
                    "age",
                    "age",
                    "age",
                    "age",
                    "age",
                    "age",
                    "age",
                    "age",
                    "age",
                    "age",
                    "age",
                    "age",
                    "age",
                    "age",
                    "age",
                    "age",
                    "age",
                    "age",
                    "age",
                    "age",
                    "age",
                    "age",
                    "age",
                    "age",
                    "age",
                    "age",
                    "age",
                    "age",
                    "age",
                    "age",
                    "age",
                    "age",
                    "age",
                    "age",
                    "age",
                    "age",
                    "age",
                    "age",
                    "age",
                    "age",
                    "age",
                    "age",
                    "age",
                    "age",
                    "age",
                    "age",
                    "age",
                    "age",
                    "age",
                    "age",
                    "age",
                    "age",
                    "age",
                    "age",
                    "age",
                    "age",
                    "age",
                    "age",
                    "age",
                    "age",
                    "age",
                    "age",
                    "age",
                    "age",
                    "age",
                    "age",
                    "age",
                    "age",
                    "age",
                    "age",
                    "age",
                    "age",
                    "age",
                    "age",
                    "age",
                    "age",
                    "age",
                    "age",
                    "age",
                    "age",
                    "age",
                    "age",
                    "age",
                    "age",
                    "age",
                    "age",
                    "age",
                    "age",
                    "age",
                    "age",
                    "age",
                    "age",
                    "age",
                    "age",
                    "age",
                    "age",
                    "age",
                    "age",
                    "age",
                    "age",
                    "age",
                    "age",
                    "age",
                    "age",
                    "age",
                    "age",
                    "age",
                    "age",
                    "age",
                    "age",
                    "age",
                    "age",
                    "age",
                    "age",
                    "age",
                    "age",
                    "age",
                    "age",
                    "age",
                    "age",
                    "age",
                    "age",
                    "age",
                    "age",
                    "age",
                    "age",
                    "age",
                    "age",
                    "age",
                    "age",
                    "age",
                    "age",
                    "age",
                    "age",
                    "age",
                    "age",
                    "age",
                    "age",
                    "age",
                    "age",
                    "age",
                    "age",
                    "age",
                    "age",
                    "age",
                    "age",
                    "age",
                    "age",
                    "age",
                    "age",
                    "age",
                    "age",
                    "age",
                    "age",
                    "age",
                    "age",
                    "age",
                    "age",
                    "age",
                    "age",
                    "age",
                    "age",
                    "age",
                    "age",
                    "age"
                  ],
                  "yaxis": "y2",
                  "type": "scatter"
                }
              ],
              "layout": {
                "barmode": "overlay",
                "hovermode": "closest",
                "legend": {
                  "traceorder": "reversed"
                },
                "xaxis": {
                  "anchor": "y2",
                  "domain": [
                    0,
                    1
                  ],
                  "zeroline": false
                },
                "yaxis": {
                  "anchor": "free",
                  "domain": [
                    0.35,
                    1
                  ],
                  "position": 0
                },
                "yaxis2": {
                  "anchor": "x",
                  "domain": [
                    0,
                    0.25
                  ],
                  "dtick": 1,
                  "showticklabels": false
                },
                "template": {
                  "data": {
                    "bar": [
                      {
                        "error_x": {
                          "color": "#2a3f5f"
                        },
                        "error_y": {
                          "color": "#2a3f5f"
                        },
                        "marker": {
                          "line": {
                            "color": "#E5ECF6",
                            "width": 0.5
                          },
                          "pattern": {
                            "fillmode": "overlay",
                            "size": 10,
                            "solidity": 0.2
                          }
                        },
                        "type": "bar"
                      }
                    ],
                    "barpolar": [
                      {
                        "marker": {
                          "line": {
                            "color": "#E5ECF6",
                            "width": 0.5
                          },
                          "pattern": {
                            "fillmode": "overlay",
                            "size": 10,
                            "solidity": 0.2
                          }
                        },
                        "type": "barpolar"
                      }
                    ],
                    "carpet": [
                      {
                        "aaxis": {
                          "endlinecolor": "#2a3f5f",
                          "gridcolor": "white",
                          "linecolor": "white",
                          "minorgridcolor": "white",
                          "startlinecolor": "#2a3f5f"
                        },
                        "baxis": {
                          "endlinecolor": "#2a3f5f",
                          "gridcolor": "white",
                          "linecolor": "white",
                          "minorgridcolor": "white",
                          "startlinecolor": "#2a3f5f"
                        },
                        "type": "carpet"
                      }
                    ],
                    "choropleth": [
                      {
                        "colorbar": {
                          "outlinewidth": 0,
                          "ticks": ""
                        },
                        "type": "choropleth"
                      }
                    ],
                    "contour": [
                      {
                        "colorbar": {
                          "outlinewidth": 0,
                          "ticks": ""
                        },
                        "colorscale": [
                          [
                            0,
                            "#0d0887"
                          ],
                          [
                            0.1111111111111111,
                            "#46039f"
                          ],
                          [
                            0.2222222222222222,
                            "#7201a8"
                          ],
                          [
                            0.3333333333333333,
                            "#9c179e"
                          ],
                          [
                            0.4444444444444444,
                            "#bd3786"
                          ],
                          [
                            0.5555555555555556,
                            "#d8576b"
                          ],
                          [
                            0.6666666666666666,
                            "#ed7953"
                          ],
                          [
                            0.7777777777777778,
                            "#fb9f3a"
                          ],
                          [
                            0.8888888888888888,
                            "#fdca26"
                          ],
                          [
                            1,
                            "#f0f921"
                          ]
                        ],
                        "type": "contour"
                      }
                    ],
                    "contourcarpet": [
                      {
                        "colorbar": {
                          "outlinewidth": 0,
                          "ticks": ""
                        },
                        "type": "contourcarpet"
                      }
                    ],
                    "heatmap": [
                      {
                        "colorbar": {
                          "outlinewidth": 0,
                          "ticks": ""
                        },
                        "colorscale": [
                          [
                            0,
                            "#0d0887"
                          ],
                          [
                            0.1111111111111111,
                            "#46039f"
                          ],
                          [
                            0.2222222222222222,
                            "#7201a8"
                          ],
                          [
                            0.3333333333333333,
                            "#9c179e"
                          ],
                          [
                            0.4444444444444444,
                            "#bd3786"
                          ],
                          [
                            0.5555555555555556,
                            "#d8576b"
                          ],
                          [
                            0.6666666666666666,
                            "#ed7953"
                          ],
                          [
                            0.7777777777777778,
                            "#fb9f3a"
                          ],
                          [
                            0.8888888888888888,
                            "#fdca26"
                          ],
                          [
                            1,
                            "#f0f921"
                          ]
                        ],
                        "type": "heatmap"
                      }
                    ],
                    "heatmapgl": [
                      {
                        "colorbar": {
                          "outlinewidth": 0,
                          "ticks": ""
                        },
                        "colorscale": [
                          [
                            0,
                            "#0d0887"
                          ],
                          [
                            0.1111111111111111,
                            "#46039f"
                          ],
                          [
                            0.2222222222222222,
                            "#7201a8"
                          ],
                          [
                            0.3333333333333333,
                            "#9c179e"
                          ],
                          [
                            0.4444444444444444,
                            "#bd3786"
                          ],
                          [
                            0.5555555555555556,
                            "#d8576b"
                          ],
                          [
                            0.6666666666666666,
                            "#ed7953"
                          ],
                          [
                            0.7777777777777778,
                            "#fb9f3a"
                          ],
                          [
                            0.8888888888888888,
                            "#fdca26"
                          ],
                          [
                            1,
                            "#f0f921"
                          ]
                        ],
                        "type": "heatmapgl"
                      }
                    ],
                    "histogram": [
                      {
                        "marker": {
                          "pattern": {
                            "fillmode": "overlay",
                            "size": 10,
                            "solidity": 0.2
                          }
                        },
                        "type": "histogram"
                      }
                    ],
                    "histogram2d": [
                      {
                        "colorbar": {
                          "outlinewidth": 0,
                          "ticks": ""
                        },
                        "colorscale": [
                          [
                            0,
                            "#0d0887"
                          ],
                          [
                            0.1111111111111111,
                            "#46039f"
                          ],
                          [
                            0.2222222222222222,
                            "#7201a8"
                          ],
                          [
                            0.3333333333333333,
                            "#9c179e"
                          ],
                          [
                            0.4444444444444444,
                            "#bd3786"
                          ],
                          [
                            0.5555555555555556,
                            "#d8576b"
                          ],
                          [
                            0.6666666666666666,
                            "#ed7953"
                          ],
                          [
                            0.7777777777777778,
                            "#fb9f3a"
                          ],
                          [
                            0.8888888888888888,
                            "#fdca26"
                          ],
                          [
                            1,
                            "#f0f921"
                          ]
                        ],
                        "type": "histogram2d"
                      }
                    ],
                    "histogram2dcontour": [
                      {
                        "colorbar": {
                          "outlinewidth": 0,
                          "ticks": ""
                        },
                        "colorscale": [
                          [
                            0,
                            "#0d0887"
                          ],
                          [
                            0.1111111111111111,
                            "#46039f"
                          ],
                          [
                            0.2222222222222222,
                            "#7201a8"
                          ],
                          [
                            0.3333333333333333,
                            "#9c179e"
                          ],
                          [
                            0.4444444444444444,
                            "#bd3786"
                          ],
                          [
                            0.5555555555555556,
                            "#d8576b"
                          ],
                          [
                            0.6666666666666666,
                            "#ed7953"
                          ],
                          [
                            0.7777777777777778,
                            "#fb9f3a"
                          ],
                          [
                            0.8888888888888888,
                            "#fdca26"
                          ],
                          [
                            1,
                            "#f0f921"
                          ]
                        ],
                        "type": "histogram2dcontour"
                      }
                    ],
                    "mesh3d": [
                      {
                        "colorbar": {
                          "outlinewidth": 0,
                          "ticks": ""
                        },
                        "type": "mesh3d"
                      }
                    ],
                    "parcoords": [
                      {
                        "line": {
                          "colorbar": {
                            "outlinewidth": 0,
                            "ticks": ""
                          }
                        },
                        "type": "parcoords"
                      }
                    ],
                    "pie": [
                      {
                        "automargin": true,
                        "type": "pie"
                      }
                    ],
                    "scatter": [
                      {
                        "marker": {
                          "colorbar": {
                            "outlinewidth": 0,
                            "ticks": ""
                          }
                        },
                        "type": "scatter"
                      }
                    ],
                    "scatter3d": [
                      {
                        "line": {
                          "colorbar": {
                            "outlinewidth": 0,
                            "ticks": ""
                          }
                        },
                        "marker": {
                          "colorbar": {
                            "outlinewidth": 0,
                            "ticks": ""
                          }
                        },
                        "type": "scatter3d"
                      }
                    ],
                    "scattercarpet": [
                      {
                        "marker": {
                          "colorbar": {
                            "outlinewidth": 0,
                            "ticks": ""
                          }
                        },
                        "type": "scattercarpet"
                      }
                    ],
                    "scattergeo": [
                      {
                        "marker": {
                          "colorbar": {
                            "outlinewidth": 0,
                            "ticks": ""
                          }
                        },
                        "type": "scattergeo"
                      }
                    ],
                    "scattergl": [
                      {
                        "marker": {
                          "colorbar": {
                            "outlinewidth": 0,
                            "ticks": ""
                          }
                        },
                        "type": "scattergl"
                      }
                    ],
                    "scattermapbox": [
                      {
                        "marker": {
                          "colorbar": {
                            "outlinewidth": 0,
                            "ticks": ""
                          }
                        },
                        "type": "scattermapbox"
                      }
                    ],
                    "scatterpolar": [
                      {
                        "marker": {
                          "colorbar": {
                            "outlinewidth": 0,
                            "ticks": ""
                          }
                        },
                        "type": "scatterpolar"
                      }
                    ],
                    "scatterpolargl": [
                      {
                        "marker": {
                          "colorbar": {
                            "outlinewidth": 0,
                            "ticks": ""
                          }
                        },
                        "type": "scatterpolargl"
                      }
                    ],
                    "scatterternary": [
                      {
                        "marker": {
                          "colorbar": {
                            "outlinewidth": 0,
                            "ticks": ""
                          }
                        },
                        "type": "scatterternary"
                      }
                    ],
                    "surface": [
                      {
                        "colorbar": {
                          "outlinewidth": 0,
                          "ticks": ""
                        },
                        "colorscale": [
                          [
                            0,
                            "#0d0887"
                          ],
                          [
                            0.1111111111111111,
                            "#46039f"
                          ],
                          [
                            0.2222222222222222,
                            "#7201a8"
                          ],
                          [
                            0.3333333333333333,
                            "#9c179e"
                          ],
                          [
                            0.4444444444444444,
                            "#bd3786"
                          ],
                          [
                            0.5555555555555556,
                            "#d8576b"
                          ],
                          [
                            0.6666666666666666,
                            "#ed7953"
                          ],
                          [
                            0.7777777777777778,
                            "#fb9f3a"
                          ],
                          [
                            0.8888888888888888,
                            "#fdca26"
                          ],
                          [
                            1,
                            "#f0f921"
                          ]
                        ],
                        "type": "surface"
                      }
                    ],
                    "table": [
                      {
                        "cells": {
                          "fill": {
                            "color": "#EBF0F8"
                          },
                          "line": {
                            "color": "white"
                          }
                        },
                        "header": {
                          "fill": {
                            "color": "#C8D4E3"
                          },
                          "line": {
                            "color": "white"
                          }
                        },
                        "type": "table"
                      }
                    ]
                  },
                  "layout": {
                    "annotationdefaults": {
                      "arrowcolor": "#2a3f5f",
                      "arrowhead": 0,
                      "arrowwidth": 1
                    },
                    "autotypenumbers": "strict",
                    "coloraxis": {
                      "colorbar": {
                        "outlinewidth": 0,
                        "ticks": ""
                      }
                    },
                    "colorscale": {
                      "diverging": [
                        [
                          0,
                          "#8e0152"
                        ],
                        [
                          0.1,
                          "#c51b7d"
                        ],
                        [
                          0.2,
                          "#de77ae"
                        ],
                        [
                          0.3,
                          "#f1b6da"
                        ],
                        [
                          0.4,
                          "#fde0ef"
                        ],
                        [
                          0.5,
                          "#f7f7f7"
                        ],
                        [
                          0.6,
                          "#e6f5d0"
                        ],
                        [
                          0.7,
                          "#b8e186"
                        ],
                        [
                          0.8,
                          "#7fbc41"
                        ],
                        [
                          0.9,
                          "#4d9221"
                        ],
                        [
                          1,
                          "#276419"
                        ]
                      ],
                      "sequential": [
                        [
                          0,
                          "#0d0887"
                        ],
                        [
                          0.1111111111111111,
                          "#46039f"
                        ],
                        [
                          0.2222222222222222,
                          "#7201a8"
                        ],
                        [
                          0.3333333333333333,
                          "#9c179e"
                        ],
                        [
                          0.4444444444444444,
                          "#bd3786"
                        ],
                        [
                          0.5555555555555556,
                          "#d8576b"
                        ],
                        [
                          0.6666666666666666,
                          "#ed7953"
                        ],
                        [
                          0.7777777777777778,
                          "#fb9f3a"
                        ],
                        [
                          0.8888888888888888,
                          "#fdca26"
                        ],
                        [
                          1,
                          "#f0f921"
                        ]
                      ],
                      "sequentialminus": [
                        [
                          0,
                          "#0d0887"
                        ],
                        [
                          0.1111111111111111,
                          "#46039f"
                        ],
                        [
                          0.2222222222222222,
                          "#7201a8"
                        ],
                        [
                          0.3333333333333333,
                          "#9c179e"
                        ],
                        [
                          0.4444444444444444,
                          "#bd3786"
                        ],
                        [
                          0.5555555555555556,
                          "#d8576b"
                        ],
                        [
                          0.6666666666666666,
                          "#ed7953"
                        ],
                        [
                          0.7777777777777778,
                          "#fb9f3a"
                        ],
                        [
                          0.8888888888888888,
                          "#fdca26"
                        ],
                        [
                          1,
                          "#f0f921"
                        ]
                      ]
                    },
                    "colorway": [
                      "#636efa",
                      "#EF553B",
                      "#00cc96",
                      "#ab63fa",
                      "#FFA15A",
                      "#19d3f3",
                      "#FF6692",
                      "#B6E880",
                      "#FF97FF",
                      "#FECB52"
                    ],
                    "font": {
                      "color": "#2a3f5f"
                    },
                    "geo": {
                      "bgcolor": "white",
                      "lakecolor": "white",
                      "landcolor": "#E5ECF6",
                      "showlakes": true,
                      "showland": true,
                      "subunitcolor": "white"
                    },
                    "hoverlabel": {
                      "align": "left"
                    },
                    "hovermode": "closest",
                    "mapbox": {
                      "style": "light"
                    },
                    "paper_bgcolor": "white",
                    "plot_bgcolor": "#E5ECF6",
                    "polar": {
                      "angularaxis": {
                        "gridcolor": "white",
                        "linecolor": "white",
                        "ticks": ""
                      },
                      "bgcolor": "#E5ECF6",
                      "radialaxis": {
                        "gridcolor": "white",
                        "linecolor": "white",
                        "ticks": ""
                      }
                    },
                    "scene": {
                      "xaxis": {
                        "backgroundcolor": "#E5ECF6",
                        "gridcolor": "white",
                        "gridwidth": 2,
                        "linecolor": "white",
                        "showbackground": true,
                        "ticks": "",
                        "zerolinecolor": "white"
                      },
                      "yaxis": {
                        "backgroundcolor": "#E5ECF6",
                        "gridcolor": "white",
                        "gridwidth": 2,
                        "linecolor": "white",
                        "showbackground": true,
                        "ticks": "",
                        "zerolinecolor": "white"
                      },
                      "zaxis": {
                        "backgroundcolor": "#E5ECF6",
                        "gridcolor": "white",
                        "gridwidth": 2,
                        "linecolor": "white",
                        "showbackground": true,
                        "ticks": "",
                        "zerolinecolor": "white"
                      }
                    },
                    "shapedefaults": {
                      "line": {
                        "color": "#2a3f5f"
                      }
                    },
                    "ternary": {
                      "aaxis": {
                        "gridcolor": "white",
                        "linecolor": "white",
                        "ticks": ""
                      },
                      "baxis": {
                        "gridcolor": "white",
                        "linecolor": "white",
                        "ticks": ""
                      },
                      "bgcolor": "#E5ECF6",
                      "caxis": {
                        "gridcolor": "white",
                        "linecolor": "white",
                        "ticks": ""
                      }
                    },
                    "title": {
                      "x": 0.05
                    },
                    "xaxis": {
                      "automargin": true,
                      "gridcolor": "white",
                      "linecolor": "white",
                      "ticks": "",
                      "title": {
                        "standoff": 15
                      },
                      "zerolinecolor": "white",
                      "zerolinewidth": 2
                    },
                    "yaxis": {
                      "automargin": true,
                      "gridcolor": "white",
                      "linecolor": "white",
                      "ticks": "",
                      "title": {
                        "standoff": 15
                      },
                      "zerolinecolor": "white",
                      "zerolinewidth": 2
                    }
                  }
                },
                "title": {
                  "text": "Age Distribution plot"
                }
              },
              "config": {
                "plotlyServerURL": "https://plot.ly"
              }
            },
            "text/html": [
              "<div>                            <div id=\"3f39a584-b386-4371-b733-cd53afea0b8b\" class=\"plotly-graph-div\" style=\"height:525px; width:100%;\"></div>            <script type=\"text/javascript\">                require([\"plotly\"], function(Plotly) {                    window.PLOTLYENV=window.PLOTLYENV || {};                                    if (document.getElementById(\"3f39a584-b386-4371-b733-cd53afea0b8b\")) {                    Plotly.newPlot(                        \"3f39a584-b386-4371-b733-cd53afea0b8b\",                        [{\"autobinx\":false,\"histnorm\":\"probability density\",\"legendgroup\":\"age\",\"marker\":{\"color\":\"rgb(31, 119, 180)\"},\"name\":\"age\",\"opacity\":0.7,\"x\":[75.0,55.0,65.0,50.0,65.0,90.0,75.0,60.0,65.0,80.0,75.0,62.0,45.0,50.0,49.0,82.0,87.0,45.0,70.0,48.0,65.0,65.0,68.0,53.0,75.0,80.0,95.0,70.0,58.0,82.0,94.0,85.0,50.0,50.0,65.0,69.0,90.0,82.0,60.0,60.0,70.0,50.0,70.0,72.0,60.0,50.0,51.0,60.0,80.0,57.0,68.0,53.0,60.0,70.0,60.0,95.0,70.0,60.0,49.0,72.0,45.0,50.0,55.0,45.0,45.0,60.0,42.0,72.0,70.0,65.0,41.0,58.0,85.0,65.0,69.0,60.0,70.0,42.0,75.0,55.0,70.0,67.0,60.0,79.0,59.0,51.0,55.0,65.0,44.0,57.0,70.0,60.0,42.0,60.0,58.0,58.0,63.0,70.0,60.0,63.0,65.0,75.0,80.0,42.0,60.0,72.0,55.0,45.0,63.0,45.0,85.0,55.0,50.0,70.0,60.0,58.0,60.0,85.0,65.0,86.0,60.0,66.0,60.0,60.0,60.0,43.0,46.0,58.0,61.0,53.0,53.0,60.0,46.0,63.0,81.0,75.0,65.0,68.0,62.0,50.0,80.0,46.0,50.0,61.0,72.0,50.0,52.0,64.0,75.0,60.0,72.0,62.0,50.0,50.0,65.0,60.0,52.0,50.0,85.0,59.0,66.0,45.0,63.0,50.0,45.0,80.0,53.0,59.0,65.0,70.0,51.0,52.0,70.0,50.0,65.0,60.0,69.0,49.0,63.0,55.0,40.0,59.0,65.0,75.0,58.0,60.667,50.0,60.0,60.667,40.0,80.0,64.0,50.0,73.0,45.0,77.0,45.0,65.0,50.0,60.0,63.0,45.0,70.0,60.0,78.0,50.0,40.0,85.0,60.0,49.0,70.0,50.0,78.0,48.0,65.0,73.0,70.0,54.0,68.0,55.0,73.0,65.0,42.0,47.0,58.0,75.0,58.0,55.0,65.0,72.0,60.0,70.0,40.0,53.0,53.0,77.0,75.0,70.0,65.0,55.0,70.0,65.0,40.0,73.0,54.0,61.0,55.0,64.0,40.0,53.0,50.0,55.0,50.0,70.0,53.0,52.0,65.0,58.0,45.0,53.0,55.0,62.0,65.0,68.0,61.0,50.0,55.0,56.0,45.0,40.0,44.0,51.0,67.0,42.0,60.0,45.0,70.0,70.0,50.0,55.0,70.0,70.0,42.0,65.0,50.0,55.0,60.0,45.0,65.0,90.0,45.0,60.0,52.0,63.0,62.0,55.0,45.0,45.0,50.0],\"xaxis\":\"x\",\"xbins\":{\"end\":95.0,\"size\":1.0,\"start\":40.0},\"yaxis\":\"y\",\"type\":\"histogram\"},{\"legendgroup\":\"age\",\"marker\":{\"color\":\"rgb(31, 119, 180)\"},\"mode\":\"lines\",\"name\":\"age\",\"showlegend\":false,\"x\":[40.0,40.11,40.22,40.33,40.44,40.55,40.66,40.77,40.88,40.99,41.1,41.21,41.32,41.43,41.54,41.65,41.76,41.87,41.98,42.09,42.2,42.31,42.42,42.53,42.64,42.75,42.86,42.97,43.08,43.19,43.3,43.41,43.52,43.63,43.74,43.85,43.96,44.07,44.18,44.29,44.4,44.51,44.62,44.730000000000004,44.84,44.95,45.06,45.17,45.28,45.39,45.5,45.61,45.72,45.83,45.94,46.05,46.16,46.269999999999996,46.38,46.49,46.6,46.71,46.82,46.93,47.04,47.15,47.26,47.37,47.480000000000004,47.59,47.7,47.81,47.92,48.03,48.14,48.25,48.36,48.47,48.58,48.69,48.8,48.91,49.019999999999996,49.13,49.24,49.35,49.46,49.57,49.68,49.79,49.9,50.01,50.12,50.230000000000004,50.34,50.45,50.56,50.67,50.78,50.89,51.0,51.11,51.22,51.33,51.44,51.55,51.66,51.769999999999996,51.88,51.99,52.1,52.21,52.32,52.43,52.54,52.65,52.76,52.87,52.980000000000004,53.09,53.2,53.31,53.42,53.53,53.64,53.75,53.86,53.97,54.08,54.19,54.3,54.41,54.519999999999996,54.63,54.74,54.85,54.96,55.07,55.18,55.29,55.4,55.51,55.62,55.730000000000004,55.84,55.95,56.06,56.17,56.28,56.39,56.5,56.61,56.72,56.83,56.94,57.05,57.16,57.269999999999996,57.379999999999995,57.489999999999995,57.6,57.71,57.82,57.93,58.04,58.15,58.260000000000005,58.370000000000005,58.480000000000004,58.59,58.7,58.81,58.92,59.03,59.14,59.25,59.36,59.47,59.58,59.69,59.8,59.91,60.019999999999996,60.129999999999995,60.239999999999995,60.35,60.46,60.57,60.68,60.79,60.9,61.010000000000005,61.120000000000005,61.230000000000004,61.34,61.45,61.56,61.67,61.78,61.89,62.0,62.11,62.22,62.33,62.44,62.55,62.66,62.769999999999996,62.879999999999995,62.989999999999995,63.1,63.21,63.32,63.43,63.54,63.65,63.760000000000005,63.870000000000005,63.980000000000004,64.09,64.2,64.31,64.42,64.53,64.64,64.75,64.86,64.97,65.08,65.19,65.3,65.41,65.52,65.63,65.74,65.85,65.96000000000001,66.07,66.18,66.28999999999999,66.4,66.51,66.62,66.73,66.84,66.95,67.06,67.17,67.28,67.39,67.5,67.61,67.72,67.83,67.94,68.05,68.16,68.27,68.38,68.49,68.6,68.71000000000001,68.82,68.93,69.03999999999999,69.15,69.26,69.37,69.48,69.59,69.7,69.81,69.92,70.03,70.14,70.25,70.36,70.47,70.58,70.69,70.8,70.91,71.02,71.13,71.24,71.35,71.46000000000001,71.57,71.68,71.78999999999999,71.9,72.00999999999999,72.12,72.22999999999999,72.34,72.45,72.56,72.67,72.78,72.89,73.0,73.11,73.22,73.33,73.44,73.55,73.66,73.77000000000001,73.88,73.99000000000001,74.1,74.21000000000001,74.32,74.43,74.53999999999999,74.65,74.75999999999999,74.87,74.97999999999999,75.09,75.2,75.31,75.42,75.53,75.64,75.75,75.86,75.97,76.08,76.19,76.3,76.41,76.52000000000001,76.63,76.74000000000001,76.85,76.96000000000001,77.07,77.18,77.28999999999999,77.4,77.50999999999999,77.62,77.72999999999999,77.84,77.95,78.06,78.17,78.28,78.39,78.5,78.61,78.72,78.83,78.94,79.05,79.16,79.27000000000001,79.38,79.49000000000001,79.6,79.71000000000001,79.82,79.93,80.03999999999999,80.15,80.25999999999999,80.37,80.47999999999999,80.59,80.7,80.81,80.92,81.03,81.14,81.25,81.36,81.47,81.58,81.69,81.8,81.91,82.02000000000001,82.13,82.24000000000001,82.35,82.46000000000001,82.57,82.68,82.78999999999999,82.9,83.00999999999999,83.12,83.22999999999999,83.34,83.45,83.56,83.67,83.78,83.89,84.0,84.11,84.22,84.33,84.44,84.55,84.66,84.77000000000001,84.88,84.99000000000001,85.1,85.21000000000001,85.32,85.43,85.53999999999999,85.65,85.75999999999999,85.87,85.97999999999999,86.09,86.2,86.31,86.42,86.53,86.64,86.75,86.86,86.97,87.08,87.19,87.3,87.41,87.52000000000001,87.63,87.74000000000001,87.85,87.96000000000001,88.07,88.18,88.28999999999999,88.4,88.50999999999999,88.62,88.72999999999999,88.84,88.95,89.06,89.17,89.28,89.39,89.5,89.61,89.72,89.83,89.94,90.05,90.16,90.27000000000001,90.38,90.49000000000001,90.6,90.71000000000001,90.82,90.93,91.03999999999999,91.15,91.25999999999999,91.37,91.47999999999999,91.59,91.7,91.81,91.92,92.03,92.14,92.25,92.36,92.47,92.58,92.69,92.8,92.91,93.02000000000001,93.13,93.24000000000001,93.35,93.46000000000001,93.57,93.68,93.78999999999999,93.9,94.00999999999999,94.12,94.22999999999999,94.34,94.45,94.56,94.67,94.78,94.89],\"xaxis\":\"x\",\"y\":[0.009278580261905384,0.0094938463446575,0.009709942017945495,0.009926756744584262,0.010144180923897348,0.010362106165255599,0.010580425557159689,0.010799033930689383,0.011017828116131665,0.011236707191591193,0.011455572722384,0.011674328990017607,0.011892883209567724,0.012111145734276236,0.012329030246215258,0.012546453931888775,0.012763337641678352,0.012979606032081831,0.013195187689743742,0.013410015236335695,0.013624025413411553,0.013837159146439872,0.014049361587299726,0.01426058213462163,0.014470774431457532,0.014679896339876555,0.014887909892202802,0.015094781218740527,0.015300480451968345,0.01550498160732627,0.015708262440870466,0.01591030428422435,0.01611109185741427,0.01631061306034132,0.016508858743806334,0.016705822461170507,0.01690150020190048,0.017095890108411515,0.017288992177782837,0.017480807950075228,0.017671340185131588,0.017860592529883406,0.018048569178316758,0.018235274526376036,0.018420712824188782,0.018604887828092793,0.018787802455023078,0.01896945844188089,0.019149856012548677,0.019328993555241654,0.01950686731289016,0.019683471089231012,0.019858795973248702,0.020032830084546285,0.02020555834214575,0.02037696225911062,0.020547019765259855,0.020715705060092387,0.020882988497873026,0.021048836506641345,0.021213211542696026,0.021376072081882334,0.021537372648764957,0.021697063884514027,0.021855092654058352,0.022011402192781488,0.02216593229274253,0.02231861952810981,0.022469397519190897,0.02261819723414251,0.022764947327138935,0.022909574511478403,0.023052003965815384,0.02319215977141755,0.02332996537807535,0.02346534409602645,0.023598219611014146,0.02372851651936785,0.023856160879784594,0.023981080778304475,0.024103206902805898,0.02422247312320875,0.024338817073458682,0.024452180731279916,0.024562510991625954,0.02466976022972639,0.024773886849630302,0.024874855814173223,0.024972639152355116,0.02506721644020211,0.025158575251302762,0.025246711573351798,0.0253316301872051,0.025413345005145905,0.025491879365282372,0.025567266279239227,0.02563954863057085,0.025708779321605993,0.025775021366734527,0.025838347930462264,0.025898842308888437,0.02595659785359945,0.026011717837320314,0.026064315261018954,0.026114512602515773,0.026162441507011684,0.026208242420302764,0.026252064165808626,0.026294063466890324,0.02633440441627337,0.02637325789472914,0.026410800941486096,0.02644721607914996,0.026482690596207663,0.02651741579046128,0.026551586177000458,0.02658539866455349,0.026619051704278543,0.02665274441524492,0.02668667569102916,0.02672104329199035,0.02675604292791466,0.026791867335808132,0.02682870535768781,0.02686674102325875,0.026906152642380107,0.026947111912206924,0.026989783043853792,0.02703432191335856,0.027080875241625262,0.027129579807906357,0.027180561701233154,0.02723393561403056,0.027289804181952638,0.027348257373752936,0.027409371934759747,0.027473210887256398,0.02753982309078393,0.027609242865073023,0.02768148967799341,0.02775656790056619,0.02783446663073456,0.02791515958722357,0.02799860507444367,0.02808474601901188,0.028173510078075777,0.02826480981923451,0.02835854297145724,0.02845459274600961,0.02855282822600891,0.02865310482285001,0.028755264797366065,0.028859137843230714,0.028964541729754448,0.029071283000898594,0.029179157727009474,0.029287952305484196,0.029397444306302863,0.029507403358112666,0.029617592070326104,0.029727766986498236,0.029837679564080753,0.02994707717551278,0.030055704125503055,0.030163302679281266,0.030269614096558376,0.03037437966592311,0.03047734173442865,0.03057824472717848,0.030676836151810397,0.030772867582898714,0.030866095621444253,0.030956282824804372,0.03104319860262321,0.031126620074554436,0.031206332885835027,0.031282131977039065,0.03135382230465307,0.031421219509424766,0.03148415052977618,0.03154245415791434,0.03159598153663014,0.03164459659514011,0.03168817642268719,0.031726611578989865,0.031759806340990133,0.03178767888571526,0.031810161409422034,0.031827200183536956,0.03183875554824023,0.031844801844859535,0.031845327288545756,0.031840333782985314,0.031829836679173225,0.031813864480514834,0.03179245849674978,0.031765672449392324,0.0317335720315596,0.03169623442521679,0.0316537477789949,0.031606210649847255,0.031553731411892376,0.031496427635854606,0.03143442544254775,0.031367858833871734,0.03129686900478313,0.031221603639684944,0.03114221619663816,0.031058865182745993,0.03097171342399218,0.030880927332730897,0.030786676175934155,0.0306891313471994,0.03058846564540762,0.03048485256280277,0.030378465585143836,0.03026947750644809,0.030158059760716206,0.03004438177289864,0.029928610331226773,0.02981090898290241,0.029691437455007647,0.029570351102362915,0.029447800383938343,0.02932393036929374,0.0291988802763988,0.02907278304206635,0.028945764926109292,0.02881794515021735,0.028689435572433166,0.028560340397992715,0.028430755927186375,0.028300770340778054,0.02817046352341414,0.028039906925336096,0.0279091634626016,0.027778287455897874,0.027647324607921093,0.02751631201916986,0.027385278241884064,0.027254243371731258,0.027123219176722273,0.026992209262699764,0.02686120927461879,0.026730207132698684,0.026599183302391218,0.026468111096973366,0.02633695701143171,0.026205681086169542,0.026074237298930644,0.0259425739831961,0.02581063427117978,0.02567835655942136,0.025545674994847875,0.025412519979064734,0.025278818688522844,0.025144495608113025,0.025009473075645803,0.0248736718346006,0.024737011592458107,0.024599411581882936,0.02446079112198086,0.024321070176837916,0.02418016990853795,0.024038013221870932,0.023894525297967442,0.02374963411414364,0.023603270947301892,0.023455370858312247,0.02330587315489988,0.023154721830673186,0.02300186597806304,0.022847260173083653,0.022690864829991067,0.02253264652408357,0.022372578281078845,0.022210639831695272,0.0220468178302722,0.021881106036477763,0.021713505459371618,0.021544024463313303,0.021372678835435796,0.021199491814628654,0.0210244940822025,0.020847723714631165,0.020669226098985926,0.020489053811889955,0.02030726646302652,0.020123930504430263,0.019939119006977875,0.019752911405665315,0.01956539321542272,0.019376655719360945,0.019186795631478584,0.018995914735969288,0.0188041195053748,0.01861152069990388,0.01841823295031002,0.018224374326764405,0.018030065896193898,0.017835431270569024,0.017640596148622213,0.017445687853463107,0.017250834868519714,0.017056166374190593,0.016861811787527964,0.016667900307199886,0.01647456046589064,0.016281919692203432,0.016090103884019623,0.015899236995155098,0.015709440637029486,0.015520833696934532,0.015333531974352931,0.01514764783663997,0.014963289895237581,0.01478056270344743,0.014599566476644125,0.014420396835665447,0.01424314457397236,0.014067895449031732,0.013894729998232299,0.013723723379513627,0.013554945236753109,0.013388459589830983,0.013224324749172294,0.013062593254449133,0.012903311837016774,0.012746521405555067,0.01259225705429012,0.012440548093081531,0.012291418098579098,0.012144884985577023,0.01200096109762613,0.011859653315904014,0.011720963185289932,0.011584887056543819,0.011451416243450824,0.011320537193759951,0.011192231672720076,0.011066476957997397,0.01094324604474717,0.010822507859605895,0.0107042274823706,0.01058836637413869,0.010474882610693643,0.010363731119938642,0.010254863922205716,0.010148230372292857,0.010043777402117494,0.009941449762910516,0.009841190265917848,0.009742940020622707,0.009646638669550747,0.009552224618775149,0.009459635263293296,0.009368807206507727,0.009279676473105054,0.009192178714690262,0.009106249407600147,0.009021824042386009,0.008938838304523796,0.008857228245978508,0.00877693044731803,0.008697882170139356,0.008620021499637847,0.008543287477216666,0.008467620223096798,0.008392961048951776,0.008319252560650048,0.008246438751245734,0.008174465084411223,0.00810327856855644,0.008032827821924266,0.00796306312899487,0.007893936488567638,0.007825401653923524,0.007757414165496963,0.007689931376510232,0.00762291247204015,0.007556318481999335,0.007490112288522172,0.007424258628247027,0.00735872408998383,0.007293477108248602,0.007228487953134304,0.007163728716970578,0.007099173298204766,0.007034797382912015,0.006970578424315054,0.006906495620663077,0.006842529891787083,0.006778663854612895,0.006714881797877846,0.006651169656257826,0.006587514984074646,0.006523906928714569,0.00646033620385067,0.006396795062525257,0.00633327727011215,0.00626977807714494,0.006206294191964689,0.006142823753112158,0.006079366301361472,0.006015922751270015,0.0059524953620979145,0.005889087707934707,0.0058257046468567705,0.005762352288931351,0.0056990379628756764,0.005635770181180636,0.005572558603508486,0.005509413998181905,0.005446348201590365,0.005383374075353626,0.0053205054610980605,0.005257757132721113,0.005195144746040957,0.005132684785753487,0.005070394509644003,0.005008291890030984,0.004946395552446823,0.004884724711592645,0.004823299104634315,0.0047621389219389175,0.004701264735381418,0.004640697424382723,0.00458045809986977,0.004520568026377115,0.0044610485425368865,0.004401920980229372,0.0043432065826900824,0.004284926421890157,0.0042271013155263815,0.004169751743972383,0.004112897767557139,0.004056558944546446,0.0040007542502115655,0.003945501997373203,0.0038908197588115585,0.0038367242919308715,0.0037832314660637694,0.003730356192792589,0.00367811235965628,0.0036265127675974554,0.003575569072490734,0.003525291731074774,0.003475689951591607,0.0034267716494149475,0.003378543407925249,0.0033310104448647875,0.003284176584378605,0.003238044234919543,0.003192614373166391,0.0031478865340742565,0.003103858807145334,0.003060527838977364,0.003017888842115247,0.002975935610199882,0.0029346605393763235,0.0028940546558922486,0.002854107649786426,0.00281480791453626,0.0027761425925037736,0.002738097625990081,0.002700657813680286,0.0026638068722337413,0.002627527502748126,0.0025918014618020934,0.002556609636756832,0.0025219321249761104,0.0024877483166034415,0.0024540369805171325,0.0024207763530668647,0.0023879442291807485,0.0023555180554189997,0.0023234750245393555,0.002291792171130615,0.002260446467863983,0.0022294149219074344,0.0021986746710461447,0.0021682030790519152,0.0021379778298470545,0.0021079770200127614,0.00207817924919904,0.002048563708002719,0.0020191102628915303,0.0019897995377665617,0.0019606129917712485,0.0019315329929739573,0.001902542887571333,0.0018736270642826832,0.0018447710136299071,0.0018159613818242376,0.0017871860190088633,0.001758434021636693,0.0017296957687931143,0.0017009629523064844,0.0016722286005221086,0.0016434870956500052],\"yaxis\":\"y\",\"type\":\"scatter\"},{\"legendgroup\":\"age\",\"marker\":{\"color\":\"rgb(31, 119, 180)\",\"symbol\":\"line-ns-open\"},\"mode\":\"markers\",\"name\":\"age\",\"showlegend\":false,\"x\":[75.0,55.0,65.0,50.0,65.0,90.0,75.0,60.0,65.0,80.0,75.0,62.0,45.0,50.0,49.0,82.0,87.0,45.0,70.0,48.0,65.0,65.0,68.0,53.0,75.0,80.0,95.0,70.0,58.0,82.0,94.0,85.0,50.0,50.0,65.0,69.0,90.0,82.0,60.0,60.0,70.0,50.0,70.0,72.0,60.0,50.0,51.0,60.0,80.0,57.0,68.0,53.0,60.0,70.0,60.0,95.0,70.0,60.0,49.0,72.0,45.0,50.0,55.0,45.0,45.0,60.0,42.0,72.0,70.0,65.0,41.0,58.0,85.0,65.0,69.0,60.0,70.0,42.0,75.0,55.0,70.0,67.0,60.0,79.0,59.0,51.0,55.0,65.0,44.0,57.0,70.0,60.0,42.0,60.0,58.0,58.0,63.0,70.0,60.0,63.0,65.0,75.0,80.0,42.0,60.0,72.0,55.0,45.0,63.0,45.0,85.0,55.0,50.0,70.0,60.0,58.0,60.0,85.0,65.0,86.0,60.0,66.0,60.0,60.0,60.0,43.0,46.0,58.0,61.0,53.0,53.0,60.0,46.0,63.0,81.0,75.0,65.0,68.0,62.0,50.0,80.0,46.0,50.0,61.0,72.0,50.0,52.0,64.0,75.0,60.0,72.0,62.0,50.0,50.0,65.0,60.0,52.0,50.0,85.0,59.0,66.0,45.0,63.0,50.0,45.0,80.0,53.0,59.0,65.0,70.0,51.0,52.0,70.0,50.0,65.0,60.0,69.0,49.0,63.0,55.0,40.0,59.0,65.0,75.0,58.0,60.667,50.0,60.0,60.667,40.0,80.0,64.0,50.0,73.0,45.0,77.0,45.0,65.0,50.0,60.0,63.0,45.0,70.0,60.0,78.0,50.0,40.0,85.0,60.0,49.0,70.0,50.0,78.0,48.0,65.0,73.0,70.0,54.0,68.0,55.0,73.0,65.0,42.0,47.0,58.0,75.0,58.0,55.0,65.0,72.0,60.0,70.0,40.0,53.0,53.0,77.0,75.0,70.0,65.0,55.0,70.0,65.0,40.0,73.0,54.0,61.0,55.0,64.0,40.0,53.0,50.0,55.0,50.0,70.0,53.0,52.0,65.0,58.0,45.0,53.0,55.0,62.0,65.0,68.0,61.0,50.0,55.0,56.0,45.0,40.0,44.0,51.0,67.0,42.0,60.0,45.0,70.0,70.0,50.0,55.0,70.0,70.0,42.0,65.0,50.0,55.0,60.0,45.0,65.0,90.0,45.0,60.0,52.0,63.0,62.0,55.0,45.0,45.0,50.0],\"xaxis\":\"x\",\"y\":[\"age\",\"age\",\"age\",\"age\",\"age\",\"age\",\"age\",\"age\",\"age\",\"age\",\"age\",\"age\",\"age\",\"age\",\"age\",\"age\",\"age\",\"age\",\"age\",\"age\",\"age\",\"age\",\"age\",\"age\",\"age\",\"age\",\"age\",\"age\",\"age\",\"age\",\"age\",\"age\",\"age\",\"age\",\"age\",\"age\",\"age\",\"age\",\"age\",\"age\",\"age\",\"age\",\"age\",\"age\",\"age\",\"age\",\"age\",\"age\",\"age\",\"age\",\"age\",\"age\",\"age\",\"age\",\"age\",\"age\",\"age\",\"age\",\"age\",\"age\",\"age\",\"age\",\"age\",\"age\",\"age\",\"age\",\"age\",\"age\",\"age\",\"age\",\"age\",\"age\",\"age\",\"age\",\"age\",\"age\",\"age\",\"age\",\"age\",\"age\",\"age\",\"age\",\"age\",\"age\",\"age\",\"age\",\"age\",\"age\",\"age\",\"age\",\"age\",\"age\",\"age\",\"age\",\"age\",\"age\",\"age\",\"age\",\"age\",\"age\",\"age\",\"age\",\"age\",\"age\",\"age\",\"age\",\"age\",\"age\",\"age\",\"age\",\"age\",\"age\",\"age\",\"age\",\"age\",\"age\",\"age\",\"age\",\"age\",\"age\",\"age\",\"age\",\"age\",\"age\",\"age\",\"age\",\"age\",\"age\",\"age\",\"age\",\"age\",\"age\",\"age\",\"age\",\"age\",\"age\",\"age\",\"age\",\"age\",\"age\",\"age\",\"age\",\"age\",\"age\",\"age\",\"age\",\"age\",\"age\",\"age\",\"age\",\"age\",\"age\",\"age\",\"age\",\"age\",\"age\",\"age\",\"age\",\"age\",\"age\",\"age\",\"age\",\"age\",\"age\",\"age\",\"age\",\"age\",\"age\",\"age\",\"age\",\"age\",\"age\",\"age\",\"age\",\"age\",\"age\",\"age\",\"age\",\"age\",\"age\",\"age\",\"age\",\"age\",\"age\",\"age\",\"age\",\"age\",\"age\",\"age\",\"age\",\"age\",\"age\",\"age\",\"age\",\"age\",\"age\",\"age\",\"age\",\"age\",\"age\",\"age\",\"age\",\"age\",\"age\",\"age\",\"age\",\"age\",\"age\",\"age\",\"age\",\"age\",\"age\",\"age\",\"age\",\"age\",\"age\",\"age\",\"age\",\"age\",\"age\",\"age\",\"age\",\"age\",\"age\",\"age\",\"age\",\"age\",\"age\",\"age\",\"age\",\"age\",\"age\",\"age\",\"age\",\"age\",\"age\",\"age\",\"age\",\"age\",\"age\",\"age\",\"age\",\"age\",\"age\",\"age\",\"age\",\"age\",\"age\",\"age\",\"age\",\"age\",\"age\",\"age\",\"age\",\"age\",\"age\",\"age\",\"age\",\"age\",\"age\",\"age\",\"age\",\"age\",\"age\",\"age\",\"age\",\"age\",\"age\",\"age\",\"age\",\"age\",\"age\",\"age\",\"age\",\"age\",\"age\",\"age\",\"age\",\"age\",\"age\",\"age\",\"age\",\"age\",\"age\",\"age\",\"age\",\"age\",\"age\",\"age\",\"age\",\"age\",\"age\",\"age\",\"age\",\"age\",\"age\",\"age\",\"age\",\"age\"],\"yaxis\":\"y2\",\"type\":\"scatter\"}],                        {\"barmode\":\"overlay\",\"hovermode\":\"closest\",\"legend\":{\"traceorder\":\"reversed\"},\"xaxis\":{\"anchor\":\"y2\",\"domain\":[0.0,1.0],\"zeroline\":false},\"yaxis\":{\"anchor\":\"free\",\"domain\":[0.35,1],\"position\":0.0},\"yaxis2\":{\"anchor\":\"x\",\"domain\":[0,0.25],\"dtick\":1,\"showticklabels\":false},\"template\":{\"data\":{\"bar\":[{\"error_x\":{\"color\":\"#2a3f5f\"},\"error_y\":{\"color\":\"#2a3f5f\"},\"marker\":{\"line\":{\"color\":\"#E5ECF6\",\"width\":0.5},\"pattern\":{\"fillmode\":\"overlay\",\"size\":10,\"solidity\":0.2}},\"type\":\"bar\"}],\"barpolar\":[{\"marker\":{\"line\":{\"color\":\"#E5ECF6\",\"width\":0.5},\"pattern\":{\"fillmode\":\"overlay\",\"size\":10,\"solidity\":0.2}},\"type\":\"barpolar\"}],\"carpet\":[{\"aaxis\":{\"endlinecolor\":\"#2a3f5f\",\"gridcolor\":\"white\",\"linecolor\":\"white\",\"minorgridcolor\":\"white\",\"startlinecolor\":\"#2a3f5f\"},\"baxis\":{\"endlinecolor\":\"#2a3f5f\",\"gridcolor\":\"white\",\"linecolor\":\"white\",\"minorgridcolor\":\"white\",\"startlinecolor\":\"#2a3f5f\"},\"type\":\"carpet\"}],\"choropleth\":[{\"colorbar\":{\"outlinewidth\":0,\"ticks\":\"\"},\"type\":\"choropleth\"}],\"contour\":[{\"colorbar\":{\"outlinewidth\":0,\"ticks\":\"\"},\"colorscale\":[[0.0,\"#0d0887\"],[0.1111111111111111,\"#46039f\"],[0.2222222222222222,\"#7201a8\"],[0.3333333333333333,\"#9c179e\"],[0.4444444444444444,\"#bd3786\"],[0.5555555555555556,\"#d8576b\"],[0.6666666666666666,\"#ed7953\"],[0.7777777777777778,\"#fb9f3a\"],[0.8888888888888888,\"#fdca26\"],[1.0,\"#f0f921\"]],\"type\":\"contour\"}],\"contourcarpet\":[{\"colorbar\":{\"outlinewidth\":0,\"ticks\":\"\"},\"type\":\"contourcarpet\"}],\"heatmap\":[{\"colorbar\":{\"outlinewidth\":0,\"ticks\":\"\"},\"colorscale\":[[0.0,\"#0d0887\"],[0.1111111111111111,\"#46039f\"],[0.2222222222222222,\"#7201a8\"],[0.3333333333333333,\"#9c179e\"],[0.4444444444444444,\"#bd3786\"],[0.5555555555555556,\"#d8576b\"],[0.6666666666666666,\"#ed7953\"],[0.7777777777777778,\"#fb9f3a\"],[0.8888888888888888,\"#fdca26\"],[1.0,\"#f0f921\"]],\"type\":\"heatmap\"}],\"heatmapgl\":[{\"colorbar\":{\"outlinewidth\":0,\"ticks\":\"\"},\"colorscale\":[[0.0,\"#0d0887\"],[0.1111111111111111,\"#46039f\"],[0.2222222222222222,\"#7201a8\"],[0.3333333333333333,\"#9c179e\"],[0.4444444444444444,\"#bd3786\"],[0.5555555555555556,\"#d8576b\"],[0.6666666666666666,\"#ed7953\"],[0.7777777777777778,\"#fb9f3a\"],[0.8888888888888888,\"#fdca26\"],[1.0,\"#f0f921\"]],\"type\":\"heatmapgl\"}],\"histogram\":[{\"marker\":{\"pattern\":{\"fillmode\":\"overlay\",\"size\":10,\"solidity\":0.2}},\"type\":\"histogram\"}],\"histogram2d\":[{\"colorbar\":{\"outlinewidth\":0,\"ticks\":\"\"},\"colorscale\":[[0.0,\"#0d0887\"],[0.1111111111111111,\"#46039f\"],[0.2222222222222222,\"#7201a8\"],[0.3333333333333333,\"#9c179e\"],[0.4444444444444444,\"#bd3786\"],[0.5555555555555556,\"#d8576b\"],[0.6666666666666666,\"#ed7953\"],[0.7777777777777778,\"#fb9f3a\"],[0.8888888888888888,\"#fdca26\"],[1.0,\"#f0f921\"]],\"type\":\"histogram2d\"}],\"histogram2dcontour\":[{\"colorbar\":{\"outlinewidth\":0,\"ticks\":\"\"},\"colorscale\":[[0.0,\"#0d0887\"],[0.1111111111111111,\"#46039f\"],[0.2222222222222222,\"#7201a8\"],[0.3333333333333333,\"#9c179e\"],[0.4444444444444444,\"#bd3786\"],[0.5555555555555556,\"#d8576b\"],[0.6666666666666666,\"#ed7953\"],[0.7777777777777778,\"#fb9f3a\"],[0.8888888888888888,\"#fdca26\"],[1.0,\"#f0f921\"]],\"type\":\"histogram2dcontour\"}],\"mesh3d\":[{\"colorbar\":{\"outlinewidth\":0,\"ticks\":\"\"},\"type\":\"mesh3d\"}],\"parcoords\":[{\"line\":{\"colorbar\":{\"outlinewidth\":0,\"ticks\":\"\"}},\"type\":\"parcoords\"}],\"pie\":[{\"automargin\":true,\"type\":\"pie\"}],\"scatter\":[{\"marker\":{\"colorbar\":{\"outlinewidth\":0,\"ticks\":\"\"}},\"type\":\"scatter\"}],\"scatter3d\":[{\"line\":{\"colorbar\":{\"outlinewidth\":0,\"ticks\":\"\"}},\"marker\":{\"colorbar\":{\"outlinewidth\":0,\"ticks\":\"\"}},\"type\":\"scatter3d\"}],\"scattercarpet\":[{\"marker\":{\"colorbar\":{\"outlinewidth\":0,\"ticks\":\"\"}},\"type\":\"scattercarpet\"}],\"scattergeo\":[{\"marker\":{\"colorbar\":{\"outlinewidth\":0,\"ticks\":\"\"}},\"type\":\"scattergeo\"}],\"scattergl\":[{\"marker\":{\"colorbar\":{\"outlinewidth\":0,\"ticks\":\"\"}},\"type\":\"scattergl\"}],\"scattermapbox\":[{\"marker\":{\"colorbar\":{\"outlinewidth\":0,\"ticks\":\"\"}},\"type\":\"scattermapbox\"}],\"scatterpolar\":[{\"marker\":{\"colorbar\":{\"outlinewidth\":0,\"ticks\":\"\"}},\"type\":\"scatterpolar\"}],\"scatterpolargl\":[{\"marker\":{\"colorbar\":{\"outlinewidth\":0,\"ticks\":\"\"}},\"type\":\"scatterpolargl\"}],\"scatterternary\":[{\"marker\":{\"colorbar\":{\"outlinewidth\":0,\"ticks\":\"\"}},\"type\":\"scatterternary\"}],\"surface\":[{\"colorbar\":{\"outlinewidth\":0,\"ticks\":\"\"},\"colorscale\":[[0.0,\"#0d0887\"],[0.1111111111111111,\"#46039f\"],[0.2222222222222222,\"#7201a8\"],[0.3333333333333333,\"#9c179e\"],[0.4444444444444444,\"#bd3786\"],[0.5555555555555556,\"#d8576b\"],[0.6666666666666666,\"#ed7953\"],[0.7777777777777778,\"#fb9f3a\"],[0.8888888888888888,\"#fdca26\"],[1.0,\"#f0f921\"]],\"type\":\"surface\"}],\"table\":[{\"cells\":{\"fill\":{\"color\":\"#EBF0F8\"},\"line\":{\"color\":\"white\"}},\"header\":{\"fill\":{\"color\":\"#C8D4E3\"},\"line\":{\"color\":\"white\"}},\"type\":\"table\"}]},\"layout\":{\"annotationdefaults\":{\"arrowcolor\":\"#2a3f5f\",\"arrowhead\":0,\"arrowwidth\":1},\"autotypenumbers\":\"strict\",\"coloraxis\":{\"colorbar\":{\"outlinewidth\":0,\"ticks\":\"\"}},\"colorscale\":{\"diverging\":[[0,\"#8e0152\"],[0.1,\"#c51b7d\"],[0.2,\"#de77ae\"],[0.3,\"#f1b6da\"],[0.4,\"#fde0ef\"],[0.5,\"#f7f7f7\"],[0.6,\"#e6f5d0\"],[0.7,\"#b8e186\"],[0.8,\"#7fbc41\"],[0.9,\"#4d9221\"],[1,\"#276419\"]],\"sequential\":[[0.0,\"#0d0887\"],[0.1111111111111111,\"#46039f\"],[0.2222222222222222,\"#7201a8\"],[0.3333333333333333,\"#9c179e\"],[0.4444444444444444,\"#bd3786\"],[0.5555555555555556,\"#d8576b\"],[0.6666666666666666,\"#ed7953\"],[0.7777777777777778,\"#fb9f3a\"],[0.8888888888888888,\"#fdca26\"],[1.0,\"#f0f921\"]],\"sequentialminus\":[[0.0,\"#0d0887\"],[0.1111111111111111,\"#46039f\"],[0.2222222222222222,\"#7201a8\"],[0.3333333333333333,\"#9c179e\"],[0.4444444444444444,\"#bd3786\"],[0.5555555555555556,\"#d8576b\"],[0.6666666666666666,\"#ed7953\"],[0.7777777777777778,\"#fb9f3a\"],[0.8888888888888888,\"#fdca26\"],[1.0,\"#f0f921\"]]},\"colorway\":[\"#636efa\",\"#EF553B\",\"#00cc96\",\"#ab63fa\",\"#FFA15A\",\"#19d3f3\",\"#FF6692\",\"#B6E880\",\"#FF97FF\",\"#FECB52\"],\"font\":{\"color\":\"#2a3f5f\"},\"geo\":{\"bgcolor\":\"white\",\"lakecolor\":\"white\",\"landcolor\":\"#E5ECF6\",\"showlakes\":true,\"showland\":true,\"subunitcolor\":\"white\"},\"hoverlabel\":{\"align\":\"left\"},\"hovermode\":\"closest\",\"mapbox\":{\"style\":\"light\"},\"paper_bgcolor\":\"white\",\"plot_bgcolor\":\"#E5ECF6\",\"polar\":{\"angularaxis\":{\"gridcolor\":\"white\",\"linecolor\":\"white\",\"ticks\":\"\"},\"bgcolor\":\"#E5ECF6\",\"radialaxis\":{\"gridcolor\":\"white\",\"linecolor\":\"white\",\"ticks\":\"\"}},\"scene\":{\"xaxis\":{\"backgroundcolor\":\"#E5ECF6\",\"gridcolor\":\"white\",\"gridwidth\":2,\"linecolor\":\"white\",\"showbackground\":true,\"ticks\":\"\",\"zerolinecolor\":\"white\"},\"yaxis\":{\"backgroundcolor\":\"#E5ECF6\",\"gridcolor\":\"white\",\"gridwidth\":2,\"linecolor\":\"white\",\"showbackground\":true,\"ticks\":\"\",\"zerolinecolor\":\"white\"},\"zaxis\":{\"backgroundcolor\":\"#E5ECF6\",\"gridcolor\":\"white\",\"gridwidth\":2,\"linecolor\":\"white\",\"showbackground\":true,\"ticks\":\"\",\"zerolinecolor\":\"white\"}},\"shapedefaults\":{\"line\":{\"color\":\"#2a3f5f\"}},\"ternary\":{\"aaxis\":{\"gridcolor\":\"white\",\"linecolor\":\"white\",\"ticks\":\"\"},\"baxis\":{\"gridcolor\":\"white\",\"linecolor\":\"white\",\"ticks\":\"\"},\"bgcolor\":\"#E5ECF6\",\"caxis\":{\"gridcolor\":\"white\",\"linecolor\":\"white\",\"ticks\":\"\"}},\"title\":{\"x\":0.05},\"xaxis\":{\"automargin\":true,\"gridcolor\":\"white\",\"linecolor\":\"white\",\"ticks\":\"\",\"title\":{\"standoff\":15},\"zerolinecolor\":\"white\",\"zerolinewidth\":2},\"yaxis\":{\"automargin\":true,\"gridcolor\":\"white\",\"linecolor\":\"white\",\"ticks\":\"\",\"title\":{\"standoff\":15},\"zerolinecolor\":\"white\",\"zerolinewidth\":2}}},\"title\":{\"text\":\"Age Distribution plot\"}},                        {\"responsive\": true}                    ).then(function(){\n",
              "                            \n",
              "var gd = document.getElementById('3f39a584-b386-4371-b733-cd53afea0b8b');\n",
              "var x = new MutationObserver(function (mutations, observer) {{\n",
              "        var display = window.getComputedStyle(gd).display;\n",
              "        if (!display || display === 'none') {{\n",
              "            console.log([gd, 'removed!']);\n",
              "            Plotly.purge(gd);\n",
              "            observer.disconnect();\n",
              "        }}\n",
              "}});\n",
              "\n",
              "// Listen for the removal of the full notebook cells\n",
              "var notebookContainer = gd.closest('#notebook-container');\n",
              "if (notebookContainer) {{\n",
              "    x.observe(notebookContainer, {childList: true});\n",
              "}}\n",
              "\n",
              "// Listen for the clearing of the current output cell\n",
              "var outputEl = gd.closest('.output');\n",
              "if (outputEl) {{\n",
              "    x.observe(outputEl, {childList: true});\n",
              "}}\n",
              "\n",
              "                        })                };                });            </script>        </div>"
            ]
          },
          "metadata": {}
        }
      ]
    },
    {
      "cell_type": "code",
      "source": [
        "fig = px.box(heart_data, x='sex', y='age', points=\"all\")\n",
        "fig.update_layout(\n",
        "    title_text=\"Gender wise Age Spread - Male = 1 Female =0\")\n",
        "fig.show()"
      ],
      "metadata": {
        "colab": {
          "base_uri": "https://localhost:8080/",
          "height": 542
        },
        "id": "rF1EKz-zjMja",
        "outputId": "85e09108-f898-4c51-e069-1f7a69d8266e"
      },
      "execution_count": 20,
      "outputs": [
        {
          "output_type": "display_data",
          "data": {
            "application/vnd.plotly.v1+json": {
              "data": [
                {
                  "alignmentgroup": "True",
                  "boxpoints": "all",
                  "hovertemplate": "sex=%{x}<br>age=%{y}<extra></extra>",
                  "legendgroup": "",
                  "marker": {
                    "color": "#636efa"
                  },
                  "name": "",
                  "notched": false,
                  "offsetgroup": "",
                  "orientation": "v",
                  "showlegend": false,
                  "x": [
                    1,
                    1,
                    1,
                    1,
                    0,
                    1,
                    1,
                    1,
                    0,
                    1,
                    1,
                    1,
                    1,
                    1,
                    0,
                    1,
                    1,
                    1,
                    0,
                    0,
                    0,
                    0,
                    1,
                    1,
                    0,
                    1,
                    0,
                    1,
                    1,
                    1,
                    1,
                    1,
                    0,
                    0,
                    1,
                    1,
                    1,
                    0,
                    1,
                    0,
                    1,
                    0,
                    1,
                    1,
                    0,
                    1,
                    1,
                    1,
                    1,
                    0,
                    1,
                    0,
                    0,
                    0,
                    0,
                    1,
                    1,
                    1,
                    1,
                    1,
                    1,
                    0,
                    1,
                    1,
                    0,
                    1,
                    0,
                    1,
                    0,
                    1,
                    1,
                    1,
                    1,
                    1,
                    1,
                    1,
                    0,
                    1,
                    1,
                    0,
                    0,
                    1,
                    0,
                    1,
                    0,
                    1,
                    1,
                    1,
                    1,
                    1,
                    1,
                    1,
                    0,
                    1,
                    0,
                    1,
                    1,
                    0,
                    0,
                    0,
                    1,
                    1,
                    1,
                    1,
                    0,
                    0,
                    1,
                    1,
                    1,
                    1,
                    1,
                    1,
                    1,
                    0,
                    1,
                    0,
                    0,
                    0,
                    0,
                    0,
                    1,
                    0,
                    0,
                    0,
                    1,
                    0,
                    0,
                    0,
                    1,
                    1,
                    1,
                    1,
                    0,
                    1,
                    1,
                    1,
                    0,
                    1,
                    0,
                    1,
                    1,
                    0,
                    0,
                    0,
                    1,
                    1,
                    1,
                    1,
                    1,
                    1,
                    0,
                    1,
                    1,
                    1,
                    0,
                    1,
                    0,
                    1,
                    1,
                    1,
                    1,
                    1,
                    1,
                    0,
                    1,
                    0,
                    1,
                    1,
                    0,
                    0,
                    1,
                    1,
                    1,
                    1,
                    1,
                    1,
                    1,
                    0,
                    1,
                    1,
                    1,
                    1,
                    1,
                    1,
                    1,
                    1,
                    0,
                    0,
                    0,
                    0,
                    1,
                    0,
                    1,
                    1,
                    1,
                    1,
                    0,
                    0,
                    0,
                    1,
                    1,
                    1,
                    1,
                    1,
                    1,
                    0,
                    0,
                    1,
                    0,
                    0,
                    1,
                    1,
                    1,
                    0,
                    1,
                    1,
                    0,
                    0,
                    1,
                    0,
                    1,
                    1,
                    1,
                    1,
                    1,
                    0,
                    1,
                    1,
                    0,
                    0,
                    0,
                    1,
                    1,
                    1,
                    1,
                    1,
                    1,
                    1,
                    0,
                    1,
                    0,
                    1,
                    1,
                    0,
                    1,
                    1,
                    1,
                    1,
                    1,
                    0,
                    0,
                    0,
                    1,
                    0,
                    1,
                    1,
                    0,
                    1,
                    1,
                    1,
                    1,
                    0,
                    1,
                    0,
                    1,
                    1,
                    1,
                    1,
                    0,
                    1,
                    1,
                    0,
                    0,
                    1,
                    1,
                    0,
                    0,
                    1,
                    0,
                    0,
                    1,
                    1,
                    1,
                    1,
                    1,
                    1,
                    1,
                    0,
                    0,
                    0,
                    0,
                    1,
                    1,
                    1,
                    1,
                    0,
                    0,
                    1,
                    1
                  ],
                  "x0": " ",
                  "xaxis": "x",
                  "y": [
                    75,
                    55,
                    65,
                    50,
                    65,
                    90,
                    75,
                    60,
                    65,
                    80,
                    75,
                    62,
                    45,
                    50,
                    49,
                    82,
                    87,
                    45,
                    70,
                    48,
                    65,
                    65,
                    68,
                    53,
                    75,
                    80,
                    95,
                    70,
                    58,
                    82,
                    94,
                    85,
                    50,
                    50,
                    65,
                    69,
                    90,
                    82,
                    60,
                    60,
                    70,
                    50,
                    70,
                    72,
                    60,
                    50,
                    51,
                    60,
                    80,
                    57,
                    68,
                    53,
                    60,
                    70,
                    60,
                    95,
                    70,
                    60,
                    49,
                    72,
                    45,
                    50,
                    55,
                    45,
                    45,
                    60,
                    42,
                    72,
                    70,
                    65,
                    41,
                    58,
                    85,
                    65,
                    69,
                    60,
                    70,
                    42,
                    75,
                    55,
                    70,
                    67,
                    60,
                    79,
                    59,
                    51,
                    55,
                    65,
                    44,
                    57,
                    70,
                    60,
                    42,
                    60,
                    58,
                    58,
                    63,
                    70,
                    60,
                    63,
                    65,
                    75,
                    80,
                    42,
                    60,
                    72,
                    55,
                    45,
                    63,
                    45,
                    85,
                    55,
                    50,
                    70,
                    60,
                    58,
                    60,
                    85,
                    65,
                    86,
                    60,
                    66,
                    60,
                    60,
                    60,
                    43,
                    46,
                    58,
                    61,
                    53,
                    53,
                    60,
                    46,
                    63,
                    81,
                    75,
                    65,
                    68,
                    62,
                    50,
                    80,
                    46,
                    50,
                    61,
                    72,
                    50,
                    52,
                    64,
                    75,
                    60,
                    72,
                    62,
                    50,
                    50,
                    65,
                    60,
                    52,
                    50,
                    85,
                    59,
                    66,
                    45,
                    63,
                    50,
                    45,
                    80,
                    53,
                    59,
                    65,
                    70,
                    51,
                    52,
                    70,
                    50,
                    65,
                    60,
                    69,
                    49,
                    63,
                    55,
                    40,
                    59,
                    65,
                    75,
                    58,
                    60.667,
                    50,
                    60,
                    60.667,
                    40,
                    80,
                    64,
                    50,
                    73,
                    45,
                    77,
                    45,
                    65,
                    50,
                    60,
                    63,
                    45,
                    70,
                    60,
                    78,
                    50,
                    40,
                    85,
                    60,
                    49,
                    70,
                    50,
                    78,
                    48,
                    65,
                    73,
                    70,
                    54,
                    68,
                    55,
                    73,
                    65,
                    42,
                    47,
                    58,
                    75,
                    58,
                    55,
                    65,
                    72,
                    60,
                    70,
                    40,
                    53,
                    53,
                    77,
                    75,
                    70,
                    65,
                    55,
                    70,
                    65,
                    40,
                    73,
                    54,
                    61,
                    55,
                    64,
                    40,
                    53,
                    50,
                    55,
                    50,
                    70,
                    53,
                    52,
                    65,
                    58,
                    45,
                    53,
                    55,
                    62,
                    65,
                    68,
                    61,
                    50,
                    55,
                    56,
                    45,
                    40,
                    44,
                    51,
                    67,
                    42,
                    60,
                    45,
                    70,
                    70,
                    50,
                    55,
                    70,
                    70,
                    42,
                    65,
                    50,
                    55,
                    60,
                    45,
                    65,
                    90,
                    45,
                    60,
                    52,
                    63,
                    62,
                    55,
                    45,
                    45,
                    50
                  ],
                  "y0": " ",
                  "yaxis": "y",
                  "type": "box"
                }
              ],
              "layout": {
                "template": {
                  "data": {
                    "bar": [
                      {
                        "error_x": {
                          "color": "#2a3f5f"
                        },
                        "error_y": {
                          "color": "#2a3f5f"
                        },
                        "marker": {
                          "line": {
                            "color": "#E5ECF6",
                            "width": 0.5
                          },
                          "pattern": {
                            "fillmode": "overlay",
                            "size": 10,
                            "solidity": 0.2
                          }
                        },
                        "type": "bar"
                      }
                    ],
                    "barpolar": [
                      {
                        "marker": {
                          "line": {
                            "color": "#E5ECF6",
                            "width": 0.5
                          },
                          "pattern": {
                            "fillmode": "overlay",
                            "size": 10,
                            "solidity": 0.2
                          }
                        },
                        "type": "barpolar"
                      }
                    ],
                    "carpet": [
                      {
                        "aaxis": {
                          "endlinecolor": "#2a3f5f",
                          "gridcolor": "white",
                          "linecolor": "white",
                          "minorgridcolor": "white",
                          "startlinecolor": "#2a3f5f"
                        },
                        "baxis": {
                          "endlinecolor": "#2a3f5f",
                          "gridcolor": "white",
                          "linecolor": "white",
                          "minorgridcolor": "white",
                          "startlinecolor": "#2a3f5f"
                        },
                        "type": "carpet"
                      }
                    ],
                    "choropleth": [
                      {
                        "colorbar": {
                          "outlinewidth": 0,
                          "ticks": ""
                        },
                        "type": "choropleth"
                      }
                    ],
                    "contour": [
                      {
                        "colorbar": {
                          "outlinewidth": 0,
                          "ticks": ""
                        },
                        "colorscale": [
                          [
                            0,
                            "#0d0887"
                          ],
                          [
                            0.1111111111111111,
                            "#46039f"
                          ],
                          [
                            0.2222222222222222,
                            "#7201a8"
                          ],
                          [
                            0.3333333333333333,
                            "#9c179e"
                          ],
                          [
                            0.4444444444444444,
                            "#bd3786"
                          ],
                          [
                            0.5555555555555556,
                            "#d8576b"
                          ],
                          [
                            0.6666666666666666,
                            "#ed7953"
                          ],
                          [
                            0.7777777777777778,
                            "#fb9f3a"
                          ],
                          [
                            0.8888888888888888,
                            "#fdca26"
                          ],
                          [
                            1,
                            "#f0f921"
                          ]
                        ],
                        "type": "contour"
                      }
                    ],
                    "contourcarpet": [
                      {
                        "colorbar": {
                          "outlinewidth": 0,
                          "ticks": ""
                        },
                        "type": "contourcarpet"
                      }
                    ],
                    "heatmap": [
                      {
                        "colorbar": {
                          "outlinewidth": 0,
                          "ticks": ""
                        },
                        "colorscale": [
                          [
                            0,
                            "#0d0887"
                          ],
                          [
                            0.1111111111111111,
                            "#46039f"
                          ],
                          [
                            0.2222222222222222,
                            "#7201a8"
                          ],
                          [
                            0.3333333333333333,
                            "#9c179e"
                          ],
                          [
                            0.4444444444444444,
                            "#bd3786"
                          ],
                          [
                            0.5555555555555556,
                            "#d8576b"
                          ],
                          [
                            0.6666666666666666,
                            "#ed7953"
                          ],
                          [
                            0.7777777777777778,
                            "#fb9f3a"
                          ],
                          [
                            0.8888888888888888,
                            "#fdca26"
                          ],
                          [
                            1,
                            "#f0f921"
                          ]
                        ],
                        "type": "heatmap"
                      }
                    ],
                    "heatmapgl": [
                      {
                        "colorbar": {
                          "outlinewidth": 0,
                          "ticks": ""
                        },
                        "colorscale": [
                          [
                            0,
                            "#0d0887"
                          ],
                          [
                            0.1111111111111111,
                            "#46039f"
                          ],
                          [
                            0.2222222222222222,
                            "#7201a8"
                          ],
                          [
                            0.3333333333333333,
                            "#9c179e"
                          ],
                          [
                            0.4444444444444444,
                            "#bd3786"
                          ],
                          [
                            0.5555555555555556,
                            "#d8576b"
                          ],
                          [
                            0.6666666666666666,
                            "#ed7953"
                          ],
                          [
                            0.7777777777777778,
                            "#fb9f3a"
                          ],
                          [
                            0.8888888888888888,
                            "#fdca26"
                          ],
                          [
                            1,
                            "#f0f921"
                          ]
                        ],
                        "type": "heatmapgl"
                      }
                    ],
                    "histogram": [
                      {
                        "marker": {
                          "pattern": {
                            "fillmode": "overlay",
                            "size": 10,
                            "solidity": 0.2
                          }
                        },
                        "type": "histogram"
                      }
                    ],
                    "histogram2d": [
                      {
                        "colorbar": {
                          "outlinewidth": 0,
                          "ticks": ""
                        },
                        "colorscale": [
                          [
                            0,
                            "#0d0887"
                          ],
                          [
                            0.1111111111111111,
                            "#46039f"
                          ],
                          [
                            0.2222222222222222,
                            "#7201a8"
                          ],
                          [
                            0.3333333333333333,
                            "#9c179e"
                          ],
                          [
                            0.4444444444444444,
                            "#bd3786"
                          ],
                          [
                            0.5555555555555556,
                            "#d8576b"
                          ],
                          [
                            0.6666666666666666,
                            "#ed7953"
                          ],
                          [
                            0.7777777777777778,
                            "#fb9f3a"
                          ],
                          [
                            0.8888888888888888,
                            "#fdca26"
                          ],
                          [
                            1,
                            "#f0f921"
                          ]
                        ],
                        "type": "histogram2d"
                      }
                    ],
                    "histogram2dcontour": [
                      {
                        "colorbar": {
                          "outlinewidth": 0,
                          "ticks": ""
                        },
                        "colorscale": [
                          [
                            0,
                            "#0d0887"
                          ],
                          [
                            0.1111111111111111,
                            "#46039f"
                          ],
                          [
                            0.2222222222222222,
                            "#7201a8"
                          ],
                          [
                            0.3333333333333333,
                            "#9c179e"
                          ],
                          [
                            0.4444444444444444,
                            "#bd3786"
                          ],
                          [
                            0.5555555555555556,
                            "#d8576b"
                          ],
                          [
                            0.6666666666666666,
                            "#ed7953"
                          ],
                          [
                            0.7777777777777778,
                            "#fb9f3a"
                          ],
                          [
                            0.8888888888888888,
                            "#fdca26"
                          ],
                          [
                            1,
                            "#f0f921"
                          ]
                        ],
                        "type": "histogram2dcontour"
                      }
                    ],
                    "mesh3d": [
                      {
                        "colorbar": {
                          "outlinewidth": 0,
                          "ticks": ""
                        },
                        "type": "mesh3d"
                      }
                    ],
                    "parcoords": [
                      {
                        "line": {
                          "colorbar": {
                            "outlinewidth": 0,
                            "ticks": ""
                          }
                        },
                        "type": "parcoords"
                      }
                    ],
                    "pie": [
                      {
                        "automargin": true,
                        "type": "pie"
                      }
                    ],
                    "scatter": [
                      {
                        "marker": {
                          "colorbar": {
                            "outlinewidth": 0,
                            "ticks": ""
                          }
                        },
                        "type": "scatter"
                      }
                    ],
                    "scatter3d": [
                      {
                        "line": {
                          "colorbar": {
                            "outlinewidth": 0,
                            "ticks": ""
                          }
                        },
                        "marker": {
                          "colorbar": {
                            "outlinewidth": 0,
                            "ticks": ""
                          }
                        },
                        "type": "scatter3d"
                      }
                    ],
                    "scattercarpet": [
                      {
                        "marker": {
                          "colorbar": {
                            "outlinewidth": 0,
                            "ticks": ""
                          }
                        },
                        "type": "scattercarpet"
                      }
                    ],
                    "scattergeo": [
                      {
                        "marker": {
                          "colorbar": {
                            "outlinewidth": 0,
                            "ticks": ""
                          }
                        },
                        "type": "scattergeo"
                      }
                    ],
                    "scattergl": [
                      {
                        "marker": {
                          "colorbar": {
                            "outlinewidth": 0,
                            "ticks": ""
                          }
                        },
                        "type": "scattergl"
                      }
                    ],
                    "scattermapbox": [
                      {
                        "marker": {
                          "colorbar": {
                            "outlinewidth": 0,
                            "ticks": ""
                          }
                        },
                        "type": "scattermapbox"
                      }
                    ],
                    "scatterpolar": [
                      {
                        "marker": {
                          "colorbar": {
                            "outlinewidth": 0,
                            "ticks": ""
                          }
                        },
                        "type": "scatterpolar"
                      }
                    ],
                    "scatterpolargl": [
                      {
                        "marker": {
                          "colorbar": {
                            "outlinewidth": 0,
                            "ticks": ""
                          }
                        },
                        "type": "scatterpolargl"
                      }
                    ],
                    "scatterternary": [
                      {
                        "marker": {
                          "colorbar": {
                            "outlinewidth": 0,
                            "ticks": ""
                          }
                        },
                        "type": "scatterternary"
                      }
                    ],
                    "surface": [
                      {
                        "colorbar": {
                          "outlinewidth": 0,
                          "ticks": ""
                        },
                        "colorscale": [
                          [
                            0,
                            "#0d0887"
                          ],
                          [
                            0.1111111111111111,
                            "#46039f"
                          ],
                          [
                            0.2222222222222222,
                            "#7201a8"
                          ],
                          [
                            0.3333333333333333,
                            "#9c179e"
                          ],
                          [
                            0.4444444444444444,
                            "#bd3786"
                          ],
                          [
                            0.5555555555555556,
                            "#d8576b"
                          ],
                          [
                            0.6666666666666666,
                            "#ed7953"
                          ],
                          [
                            0.7777777777777778,
                            "#fb9f3a"
                          ],
                          [
                            0.8888888888888888,
                            "#fdca26"
                          ],
                          [
                            1,
                            "#f0f921"
                          ]
                        ],
                        "type": "surface"
                      }
                    ],
                    "table": [
                      {
                        "cells": {
                          "fill": {
                            "color": "#EBF0F8"
                          },
                          "line": {
                            "color": "white"
                          }
                        },
                        "header": {
                          "fill": {
                            "color": "#C8D4E3"
                          },
                          "line": {
                            "color": "white"
                          }
                        },
                        "type": "table"
                      }
                    ]
                  },
                  "layout": {
                    "annotationdefaults": {
                      "arrowcolor": "#2a3f5f",
                      "arrowhead": 0,
                      "arrowwidth": 1
                    },
                    "autotypenumbers": "strict",
                    "coloraxis": {
                      "colorbar": {
                        "outlinewidth": 0,
                        "ticks": ""
                      }
                    },
                    "colorscale": {
                      "diverging": [
                        [
                          0,
                          "#8e0152"
                        ],
                        [
                          0.1,
                          "#c51b7d"
                        ],
                        [
                          0.2,
                          "#de77ae"
                        ],
                        [
                          0.3,
                          "#f1b6da"
                        ],
                        [
                          0.4,
                          "#fde0ef"
                        ],
                        [
                          0.5,
                          "#f7f7f7"
                        ],
                        [
                          0.6,
                          "#e6f5d0"
                        ],
                        [
                          0.7,
                          "#b8e186"
                        ],
                        [
                          0.8,
                          "#7fbc41"
                        ],
                        [
                          0.9,
                          "#4d9221"
                        ],
                        [
                          1,
                          "#276419"
                        ]
                      ],
                      "sequential": [
                        [
                          0,
                          "#0d0887"
                        ],
                        [
                          0.1111111111111111,
                          "#46039f"
                        ],
                        [
                          0.2222222222222222,
                          "#7201a8"
                        ],
                        [
                          0.3333333333333333,
                          "#9c179e"
                        ],
                        [
                          0.4444444444444444,
                          "#bd3786"
                        ],
                        [
                          0.5555555555555556,
                          "#d8576b"
                        ],
                        [
                          0.6666666666666666,
                          "#ed7953"
                        ],
                        [
                          0.7777777777777778,
                          "#fb9f3a"
                        ],
                        [
                          0.8888888888888888,
                          "#fdca26"
                        ],
                        [
                          1,
                          "#f0f921"
                        ]
                      ],
                      "sequentialminus": [
                        [
                          0,
                          "#0d0887"
                        ],
                        [
                          0.1111111111111111,
                          "#46039f"
                        ],
                        [
                          0.2222222222222222,
                          "#7201a8"
                        ],
                        [
                          0.3333333333333333,
                          "#9c179e"
                        ],
                        [
                          0.4444444444444444,
                          "#bd3786"
                        ],
                        [
                          0.5555555555555556,
                          "#d8576b"
                        ],
                        [
                          0.6666666666666666,
                          "#ed7953"
                        ],
                        [
                          0.7777777777777778,
                          "#fb9f3a"
                        ],
                        [
                          0.8888888888888888,
                          "#fdca26"
                        ],
                        [
                          1,
                          "#f0f921"
                        ]
                      ]
                    },
                    "colorway": [
                      "#636efa",
                      "#EF553B",
                      "#00cc96",
                      "#ab63fa",
                      "#FFA15A",
                      "#19d3f3",
                      "#FF6692",
                      "#B6E880",
                      "#FF97FF",
                      "#FECB52"
                    ],
                    "font": {
                      "color": "#2a3f5f"
                    },
                    "geo": {
                      "bgcolor": "white",
                      "lakecolor": "white",
                      "landcolor": "#E5ECF6",
                      "showlakes": true,
                      "showland": true,
                      "subunitcolor": "white"
                    },
                    "hoverlabel": {
                      "align": "left"
                    },
                    "hovermode": "closest",
                    "mapbox": {
                      "style": "light"
                    },
                    "paper_bgcolor": "white",
                    "plot_bgcolor": "#E5ECF6",
                    "polar": {
                      "angularaxis": {
                        "gridcolor": "white",
                        "linecolor": "white",
                        "ticks": ""
                      },
                      "bgcolor": "#E5ECF6",
                      "radialaxis": {
                        "gridcolor": "white",
                        "linecolor": "white",
                        "ticks": ""
                      }
                    },
                    "scene": {
                      "xaxis": {
                        "backgroundcolor": "#E5ECF6",
                        "gridcolor": "white",
                        "gridwidth": 2,
                        "linecolor": "white",
                        "showbackground": true,
                        "ticks": "",
                        "zerolinecolor": "white"
                      },
                      "yaxis": {
                        "backgroundcolor": "#E5ECF6",
                        "gridcolor": "white",
                        "gridwidth": 2,
                        "linecolor": "white",
                        "showbackground": true,
                        "ticks": "",
                        "zerolinecolor": "white"
                      },
                      "zaxis": {
                        "backgroundcolor": "#E5ECF6",
                        "gridcolor": "white",
                        "gridwidth": 2,
                        "linecolor": "white",
                        "showbackground": true,
                        "ticks": "",
                        "zerolinecolor": "white"
                      }
                    },
                    "shapedefaults": {
                      "line": {
                        "color": "#2a3f5f"
                      }
                    },
                    "ternary": {
                      "aaxis": {
                        "gridcolor": "white",
                        "linecolor": "white",
                        "ticks": ""
                      },
                      "baxis": {
                        "gridcolor": "white",
                        "linecolor": "white",
                        "ticks": ""
                      },
                      "bgcolor": "#E5ECF6",
                      "caxis": {
                        "gridcolor": "white",
                        "linecolor": "white",
                        "ticks": ""
                      }
                    },
                    "title": {
                      "x": 0.05
                    },
                    "xaxis": {
                      "automargin": true,
                      "gridcolor": "white",
                      "linecolor": "white",
                      "ticks": "",
                      "title": {
                        "standoff": 15
                      },
                      "zerolinecolor": "white",
                      "zerolinewidth": 2
                    },
                    "yaxis": {
                      "automargin": true,
                      "gridcolor": "white",
                      "linecolor": "white",
                      "ticks": "",
                      "title": {
                        "standoff": 15
                      },
                      "zerolinecolor": "white",
                      "zerolinewidth": 2
                    }
                  }
                },
                "xaxis": {
                  "anchor": "y",
                  "domain": [
                    0,
                    1
                  ],
                  "title": {
                    "text": "sex"
                  }
                },
                "yaxis": {
                  "anchor": "x",
                  "domain": [
                    0,
                    1
                  ],
                  "title": {
                    "text": "age"
                  }
                },
                "legend": {
                  "tracegroupgap": 0
                },
                "margin": {
                  "t": 60
                },
                "boxmode": "group",
                "title": {
                  "text": "Gender wise Age Spread - Male = 1 Female =0"
                }
              },
              "config": {
                "plotlyServerURL": "https://plot.ly"
              }
            },
            "text/html": [
              "<div>                            <div id=\"342e0dc6-7249-4e5e-94ee-1c4bd3c0f3a8\" class=\"plotly-graph-div\" style=\"height:525px; width:100%;\"></div>            <script type=\"text/javascript\">                require([\"plotly\"], function(Plotly) {                    window.PLOTLYENV=window.PLOTLYENV || {};                                    if (document.getElementById(\"342e0dc6-7249-4e5e-94ee-1c4bd3c0f3a8\")) {                    Plotly.newPlot(                        \"342e0dc6-7249-4e5e-94ee-1c4bd3c0f3a8\",                        [{\"alignmentgroup\":\"True\",\"boxpoints\":\"all\",\"hovertemplate\":\"sex=%{x}<br>age=%{y}<extra></extra>\",\"legendgroup\":\"\",\"marker\":{\"color\":\"#636efa\"},\"name\":\"\",\"notched\":false,\"offsetgroup\":\"\",\"orientation\":\"v\",\"showlegend\":false,\"x\":[1,1,1,1,0,1,1,1,0,1,1,1,1,1,0,1,1,1,0,0,0,0,1,1,0,1,0,1,1,1,1,1,0,0,1,1,1,0,1,0,1,0,1,1,0,1,1,1,1,0,1,0,0,0,0,1,1,1,1,1,1,0,1,1,0,1,0,1,0,1,1,1,1,1,1,1,0,1,1,0,0,1,0,1,0,1,1,1,1,1,1,1,0,1,0,1,1,0,0,0,1,1,1,1,0,0,1,1,1,1,1,1,1,0,1,0,0,0,0,0,1,0,0,0,1,0,0,0,1,1,1,1,0,1,1,1,0,1,0,1,1,0,0,0,1,1,1,1,1,1,0,1,1,1,0,1,0,1,1,1,1,1,1,0,1,0,1,1,0,0,1,1,1,1,1,1,1,0,1,1,1,1,1,1,1,1,0,0,0,0,1,0,1,1,1,1,0,0,0,1,1,1,1,1,1,0,0,1,0,0,1,1,1,0,1,1,0,0,1,0,1,1,1,1,1,0,1,1,0,0,0,1,1,1,1,1,1,1,0,1,0,1,1,0,1,1,1,1,1,0,0,0,1,0,1,1,0,1,1,1,1,0,1,0,1,1,1,1,0,1,1,0,0,1,1,0,0,1,0,0,1,1,1,1,1,1,1,0,0,0,0,1,1,1,1,0,0,1,1],\"x0\":\" \",\"xaxis\":\"x\",\"y\":[75.0,55.0,65.0,50.0,65.0,90.0,75.0,60.0,65.0,80.0,75.0,62.0,45.0,50.0,49.0,82.0,87.0,45.0,70.0,48.0,65.0,65.0,68.0,53.0,75.0,80.0,95.0,70.0,58.0,82.0,94.0,85.0,50.0,50.0,65.0,69.0,90.0,82.0,60.0,60.0,70.0,50.0,70.0,72.0,60.0,50.0,51.0,60.0,80.0,57.0,68.0,53.0,60.0,70.0,60.0,95.0,70.0,60.0,49.0,72.0,45.0,50.0,55.0,45.0,45.0,60.0,42.0,72.0,70.0,65.0,41.0,58.0,85.0,65.0,69.0,60.0,70.0,42.0,75.0,55.0,70.0,67.0,60.0,79.0,59.0,51.0,55.0,65.0,44.0,57.0,70.0,60.0,42.0,60.0,58.0,58.0,63.0,70.0,60.0,63.0,65.0,75.0,80.0,42.0,60.0,72.0,55.0,45.0,63.0,45.0,85.0,55.0,50.0,70.0,60.0,58.0,60.0,85.0,65.0,86.0,60.0,66.0,60.0,60.0,60.0,43.0,46.0,58.0,61.0,53.0,53.0,60.0,46.0,63.0,81.0,75.0,65.0,68.0,62.0,50.0,80.0,46.0,50.0,61.0,72.0,50.0,52.0,64.0,75.0,60.0,72.0,62.0,50.0,50.0,65.0,60.0,52.0,50.0,85.0,59.0,66.0,45.0,63.0,50.0,45.0,80.0,53.0,59.0,65.0,70.0,51.0,52.0,70.0,50.0,65.0,60.0,69.0,49.0,63.0,55.0,40.0,59.0,65.0,75.0,58.0,60.667,50.0,60.0,60.667,40.0,80.0,64.0,50.0,73.0,45.0,77.0,45.0,65.0,50.0,60.0,63.0,45.0,70.0,60.0,78.0,50.0,40.0,85.0,60.0,49.0,70.0,50.0,78.0,48.0,65.0,73.0,70.0,54.0,68.0,55.0,73.0,65.0,42.0,47.0,58.0,75.0,58.0,55.0,65.0,72.0,60.0,70.0,40.0,53.0,53.0,77.0,75.0,70.0,65.0,55.0,70.0,65.0,40.0,73.0,54.0,61.0,55.0,64.0,40.0,53.0,50.0,55.0,50.0,70.0,53.0,52.0,65.0,58.0,45.0,53.0,55.0,62.0,65.0,68.0,61.0,50.0,55.0,56.0,45.0,40.0,44.0,51.0,67.0,42.0,60.0,45.0,70.0,70.0,50.0,55.0,70.0,70.0,42.0,65.0,50.0,55.0,60.0,45.0,65.0,90.0,45.0,60.0,52.0,63.0,62.0,55.0,45.0,45.0,50.0],\"y0\":\" \",\"yaxis\":\"y\",\"type\":\"box\"}],                        {\"template\":{\"data\":{\"bar\":[{\"error_x\":{\"color\":\"#2a3f5f\"},\"error_y\":{\"color\":\"#2a3f5f\"},\"marker\":{\"line\":{\"color\":\"#E5ECF6\",\"width\":0.5},\"pattern\":{\"fillmode\":\"overlay\",\"size\":10,\"solidity\":0.2}},\"type\":\"bar\"}],\"barpolar\":[{\"marker\":{\"line\":{\"color\":\"#E5ECF6\",\"width\":0.5},\"pattern\":{\"fillmode\":\"overlay\",\"size\":10,\"solidity\":0.2}},\"type\":\"barpolar\"}],\"carpet\":[{\"aaxis\":{\"endlinecolor\":\"#2a3f5f\",\"gridcolor\":\"white\",\"linecolor\":\"white\",\"minorgridcolor\":\"white\",\"startlinecolor\":\"#2a3f5f\"},\"baxis\":{\"endlinecolor\":\"#2a3f5f\",\"gridcolor\":\"white\",\"linecolor\":\"white\",\"minorgridcolor\":\"white\",\"startlinecolor\":\"#2a3f5f\"},\"type\":\"carpet\"}],\"choropleth\":[{\"colorbar\":{\"outlinewidth\":0,\"ticks\":\"\"},\"type\":\"choropleth\"}],\"contour\":[{\"colorbar\":{\"outlinewidth\":0,\"ticks\":\"\"},\"colorscale\":[[0.0,\"#0d0887\"],[0.1111111111111111,\"#46039f\"],[0.2222222222222222,\"#7201a8\"],[0.3333333333333333,\"#9c179e\"],[0.4444444444444444,\"#bd3786\"],[0.5555555555555556,\"#d8576b\"],[0.6666666666666666,\"#ed7953\"],[0.7777777777777778,\"#fb9f3a\"],[0.8888888888888888,\"#fdca26\"],[1.0,\"#f0f921\"]],\"type\":\"contour\"}],\"contourcarpet\":[{\"colorbar\":{\"outlinewidth\":0,\"ticks\":\"\"},\"type\":\"contourcarpet\"}],\"heatmap\":[{\"colorbar\":{\"outlinewidth\":0,\"ticks\":\"\"},\"colorscale\":[[0.0,\"#0d0887\"],[0.1111111111111111,\"#46039f\"],[0.2222222222222222,\"#7201a8\"],[0.3333333333333333,\"#9c179e\"],[0.4444444444444444,\"#bd3786\"],[0.5555555555555556,\"#d8576b\"],[0.6666666666666666,\"#ed7953\"],[0.7777777777777778,\"#fb9f3a\"],[0.8888888888888888,\"#fdca26\"],[1.0,\"#f0f921\"]],\"type\":\"heatmap\"}],\"heatmapgl\":[{\"colorbar\":{\"outlinewidth\":0,\"ticks\":\"\"},\"colorscale\":[[0.0,\"#0d0887\"],[0.1111111111111111,\"#46039f\"],[0.2222222222222222,\"#7201a8\"],[0.3333333333333333,\"#9c179e\"],[0.4444444444444444,\"#bd3786\"],[0.5555555555555556,\"#d8576b\"],[0.6666666666666666,\"#ed7953\"],[0.7777777777777778,\"#fb9f3a\"],[0.8888888888888888,\"#fdca26\"],[1.0,\"#f0f921\"]],\"type\":\"heatmapgl\"}],\"histogram\":[{\"marker\":{\"pattern\":{\"fillmode\":\"overlay\",\"size\":10,\"solidity\":0.2}},\"type\":\"histogram\"}],\"histogram2d\":[{\"colorbar\":{\"outlinewidth\":0,\"ticks\":\"\"},\"colorscale\":[[0.0,\"#0d0887\"],[0.1111111111111111,\"#46039f\"],[0.2222222222222222,\"#7201a8\"],[0.3333333333333333,\"#9c179e\"],[0.4444444444444444,\"#bd3786\"],[0.5555555555555556,\"#d8576b\"],[0.6666666666666666,\"#ed7953\"],[0.7777777777777778,\"#fb9f3a\"],[0.8888888888888888,\"#fdca26\"],[1.0,\"#f0f921\"]],\"type\":\"histogram2d\"}],\"histogram2dcontour\":[{\"colorbar\":{\"outlinewidth\":0,\"ticks\":\"\"},\"colorscale\":[[0.0,\"#0d0887\"],[0.1111111111111111,\"#46039f\"],[0.2222222222222222,\"#7201a8\"],[0.3333333333333333,\"#9c179e\"],[0.4444444444444444,\"#bd3786\"],[0.5555555555555556,\"#d8576b\"],[0.6666666666666666,\"#ed7953\"],[0.7777777777777778,\"#fb9f3a\"],[0.8888888888888888,\"#fdca26\"],[1.0,\"#f0f921\"]],\"type\":\"histogram2dcontour\"}],\"mesh3d\":[{\"colorbar\":{\"outlinewidth\":0,\"ticks\":\"\"},\"type\":\"mesh3d\"}],\"parcoords\":[{\"line\":{\"colorbar\":{\"outlinewidth\":0,\"ticks\":\"\"}},\"type\":\"parcoords\"}],\"pie\":[{\"automargin\":true,\"type\":\"pie\"}],\"scatter\":[{\"marker\":{\"colorbar\":{\"outlinewidth\":0,\"ticks\":\"\"}},\"type\":\"scatter\"}],\"scatter3d\":[{\"line\":{\"colorbar\":{\"outlinewidth\":0,\"ticks\":\"\"}},\"marker\":{\"colorbar\":{\"outlinewidth\":0,\"ticks\":\"\"}},\"type\":\"scatter3d\"}],\"scattercarpet\":[{\"marker\":{\"colorbar\":{\"outlinewidth\":0,\"ticks\":\"\"}},\"type\":\"scattercarpet\"}],\"scattergeo\":[{\"marker\":{\"colorbar\":{\"outlinewidth\":0,\"ticks\":\"\"}},\"type\":\"scattergeo\"}],\"scattergl\":[{\"marker\":{\"colorbar\":{\"outlinewidth\":0,\"ticks\":\"\"}},\"type\":\"scattergl\"}],\"scattermapbox\":[{\"marker\":{\"colorbar\":{\"outlinewidth\":0,\"ticks\":\"\"}},\"type\":\"scattermapbox\"}],\"scatterpolar\":[{\"marker\":{\"colorbar\":{\"outlinewidth\":0,\"ticks\":\"\"}},\"type\":\"scatterpolar\"}],\"scatterpolargl\":[{\"marker\":{\"colorbar\":{\"outlinewidth\":0,\"ticks\":\"\"}},\"type\":\"scatterpolargl\"}],\"scatterternary\":[{\"marker\":{\"colorbar\":{\"outlinewidth\":0,\"ticks\":\"\"}},\"type\":\"scatterternary\"}],\"surface\":[{\"colorbar\":{\"outlinewidth\":0,\"ticks\":\"\"},\"colorscale\":[[0.0,\"#0d0887\"],[0.1111111111111111,\"#46039f\"],[0.2222222222222222,\"#7201a8\"],[0.3333333333333333,\"#9c179e\"],[0.4444444444444444,\"#bd3786\"],[0.5555555555555556,\"#d8576b\"],[0.6666666666666666,\"#ed7953\"],[0.7777777777777778,\"#fb9f3a\"],[0.8888888888888888,\"#fdca26\"],[1.0,\"#f0f921\"]],\"type\":\"surface\"}],\"table\":[{\"cells\":{\"fill\":{\"color\":\"#EBF0F8\"},\"line\":{\"color\":\"white\"}},\"header\":{\"fill\":{\"color\":\"#C8D4E3\"},\"line\":{\"color\":\"white\"}},\"type\":\"table\"}]},\"layout\":{\"annotationdefaults\":{\"arrowcolor\":\"#2a3f5f\",\"arrowhead\":0,\"arrowwidth\":1},\"autotypenumbers\":\"strict\",\"coloraxis\":{\"colorbar\":{\"outlinewidth\":0,\"ticks\":\"\"}},\"colorscale\":{\"diverging\":[[0,\"#8e0152\"],[0.1,\"#c51b7d\"],[0.2,\"#de77ae\"],[0.3,\"#f1b6da\"],[0.4,\"#fde0ef\"],[0.5,\"#f7f7f7\"],[0.6,\"#e6f5d0\"],[0.7,\"#b8e186\"],[0.8,\"#7fbc41\"],[0.9,\"#4d9221\"],[1,\"#276419\"]],\"sequential\":[[0.0,\"#0d0887\"],[0.1111111111111111,\"#46039f\"],[0.2222222222222222,\"#7201a8\"],[0.3333333333333333,\"#9c179e\"],[0.4444444444444444,\"#bd3786\"],[0.5555555555555556,\"#d8576b\"],[0.6666666666666666,\"#ed7953\"],[0.7777777777777778,\"#fb9f3a\"],[0.8888888888888888,\"#fdca26\"],[1.0,\"#f0f921\"]],\"sequentialminus\":[[0.0,\"#0d0887\"],[0.1111111111111111,\"#46039f\"],[0.2222222222222222,\"#7201a8\"],[0.3333333333333333,\"#9c179e\"],[0.4444444444444444,\"#bd3786\"],[0.5555555555555556,\"#d8576b\"],[0.6666666666666666,\"#ed7953\"],[0.7777777777777778,\"#fb9f3a\"],[0.8888888888888888,\"#fdca26\"],[1.0,\"#f0f921\"]]},\"colorway\":[\"#636efa\",\"#EF553B\",\"#00cc96\",\"#ab63fa\",\"#FFA15A\",\"#19d3f3\",\"#FF6692\",\"#B6E880\",\"#FF97FF\",\"#FECB52\"],\"font\":{\"color\":\"#2a3f5f\"},\"geo\":{\"bgcolor\":\"white\",\"lakecolor\":\"white\",\"landcolor\":\"#E5ECF6\",\"showlakes\":true,\"showland\":true,\"subunitcolor\":\"white\"},\"hoverlabel\":{\"align\":\"left\"},\"hovermode\":\"closest\",\"mapbox\":{\"style\":\"light\"},\"paper_bgcolor\":\"white\",\"plot_bgcolor\":\"#E5ECF6\",\"polar\":{\"angularaxis\":{\"gridcolor\":\"white\",\"linecolor\":\"white\",\"ticks\":\"\"},\"bgcolor\":\"#E5ECF6\",\"radialaxis\":{\"gridcolor\":\"white\",\"linecolor\":\"white\",\"ticks\":\"\"}},\"scene\":{\"xaxis\":{\"backgroundcolor\":\"#E5ECF6\",\"gridcolor\":\"white\",\"gridwidth\":2,\"linecolor\":\"white\",\"showbackground\":true,\"ticks\":\"\",\"zerolinecolor\":\"white\"},\"yaxis\":{\"backgroundcolor\":\"#E5ECF6\",\"gridcolor\":\"white\",\"gridwidth\":2,\"linecolor\":\"white\",\"showbackground\":true,\"ticks\":\"\",\"zerolinecolor\":\"white\"},\"zaxis\":{\"backgroundcolor\":\"#E5ECF6\",\"gridcolor\":\"white\",\"gridwidth\":2,\"linecolor\":\"white\",\"showbackground\":true,\"ticks\":\"\",\"zerolinecolor\":\"white\"}},\"shapedefaults\":{\"line\":{\"color\":\"#2a3f5f\"}},\"ternary\":{\"aaxis\":{\"gridcolor\":\"white\",\"linecolor\":\"white\",\"ticks\":\"\"},\"baxis\":{\"gridcolor\":\"white\",\"linecolor\":\"white\",\"ticks\":\"\"},\"bgcolor\":\"#E5ECF6\",\"caxis\":{\"gridcolor\":\"white\",\"linecolor\":\"white\",\"ticks\":\"\"}},\"title\":{\"x\":0.05},\"xaxis\":{\"automargin\":true,\"gridcolor\":\"white\",\"linecolor\":\"white\",\"ticks\":\"\",\"title\":{\"standoff\":15},\"zerolinecolor\":\"white\",\"zerolinewidth\":2},\"yaxis\":{\"automargin\":true,\"gridcolor\":\"white\",\"linecolor\":\"white\",\"ticks\":\"\",\"title\":{\"standoff\":15},\"zerolinecolor\":\"white\",\"zerolinewidth\":2}}},\"xaxis\":{\"anchor\":\"y\",\"domain\":[0.0,1.0],\"title\":{\"text\":\"sex\"}},\"yaxis\":{\"anchor\":\"x\",\"domain\":[0.0,1.0],\"title\":{\"text\":\"age\"}},\"legend\":{\"tracegroupgap\":0},\"margin\":{\"t\":60},\"boxmode\":\"group\",\"title\":{\"text\":\"Gender wise Age Spread - Male = 1 Female =0\"}},                        {\"responsive\": true}                    ).then(function(){\n",
              "                            \n",
              "var gd = document.getElementById('342e0dc6-7249-4e5e-94ee-1c4bd3c0f3a8');\n",
              "var x = new MutationObserver(function (mutations, observer) {{\n",
              "        var display = window.getComputedStyle(gd).display;\n",
              "        if (!display || display === 'none') {{\n",
              "            console.log([gd, 'removed!']);\n",
              "            Plotly.purge(gd);\n",
              "            observer.disconnect();\n",
              "        }}\n",
              "}});\n",
              "\n",
              "// Listen for the removal of the full notebook cells\n",
              "var notebookContainer = gd.closest('#notebook-container');\n",
              "if (notebookContainer) {{\n",
              "    x.observe(notebookContainer, {childList: true});\n",
              "}}\n",
              "\n",
              "// Listen for the clearing of the current output cell\n",
              "var outputEl = gd.closest('.output');\n",
              "if (outputEl) {{\n",
              "    x.observe(outputEl, {childList: true});\n",
              "}}\n",
              "\n",
              "                        })                };                });            </script>        </div>"
            ]
          },
          "metadata": {}
        }
      ]
    },
    {
      "cell_type": "code",
      "source": [],
      "metadata": {
        "id": "lVOsPetCjdOp"
      },
      "execution_count": null,
      "outputs": []
    }
  ]
}